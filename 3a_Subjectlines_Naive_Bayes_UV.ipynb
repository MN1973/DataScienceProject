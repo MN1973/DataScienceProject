{
  "cells": [
    {
      "cell_type": "markdown",
      "metadata": {
        "id": "view-in-github",
        "colab_type": "text"
      },
      "source": [
        "<a href=\"https://colab.research.google.com/github/MN1973/DataScienceProject/blob/main/3a_Subjectlines_Naive_Bayes_UV.ipynb\" target=\"_parent\"><img src=\"https://colab.research.google.com/assets/colab-badge.svg\" alt=\"Open In Colab\"/></a>"
      ]
    },
    {
      "cell_type": "code",
      "execution_count": null,
      "metadata": {
        "id": "TR_TUkpVGmqC"
      },
      "outputs": [],
      "source": [
        "import pandas as pd\n",
        "import numpy as np\n",
        "import matplotlib.pyplot as plt\n",
        "import seaborn as sns\n",
        "import sklearn\n",
        "from sklearn.model_selection import train_test_split\n",
        "import pickle\n",
        "import bz2"
      ]
    },
    {
      "cell_type": "code",
      "execution_count": null,
      "metadata": {
        "colab": {
          "base_uri": "https://localhost:8080/"
        },
        "id": "yzPRlpkjl0ms",
        "outputId": "c1217d93-9ab1-46ed-8300-7bdeb0b6e2b5"
      },
      "outputs": [
        {
          "output_type": "stream",
          "name": "stdout",
          "text": [
            "Drive already mounted at /content/drive; to attempt to forcibly remount, call drive.mount(\"/content/drive\", force_remount=True).\n"
          ]
        }
      ],
      "source": [
        "from google.colab import drive\n",
        "drive.mount('/content/drive')"
      ]
    },
    {
      "cell_type": "code",
      "execution_count": null,
      "metadata": {
        "id": "Sn1Xir6mmL4m"
      },
      "outputs": [],
      "source": [
        "DATA_PATH = \"/content/drive/MyDrive/Mandar/Project/\"\n",
        "infile = open(DATA_PATH+'/9M.pkl','rb')\n",
        "df = pickle.load(infile)"
      ]
    },
    {
      "cell_type": "code",
      "execution_count": null,
      "metadata": {
        "colab": {
          "base_uri": "https://localhost:8080/"
        },
        "id": "o7JowHwv768t",
        "outputId": "e682fc6a-12fa-49d4-87cc-908d3825cc71"
      },
      "outputs": [
        {
          "output_type": "execute_result",
          "data": {
            "text/plain": [
              "(9569374, 988)"
            ]
          },
          "metadata": {},
          "execution_count": 4
        }
      ],
      "source": [
        "df.shape"
      ]
    },
    {
      "cell_type": "code",
      "execution_count": null,
      "metadata": {
        "colab": {
          "base_uri": "https://localhost:8080/"
        },
        "id": "rJX_bi9h4zQ6",
        "outputId": "8b11b14e-c30d-4d27-d8c2-3f8833f0e022"
      },
      "outputs": [
        {
          "output_type": "execute_result",
          "data": {
            "text/plain": [
              "Index(['login_freq_in_OND21', 'age_breaks', 'account_agebreaks', 'subject',\n",
              "       'sub_length', 'sub_no_of_words', 'percentage_used', 'sender_name_brand',\n",
              "       'sender_name_rediff', 'sender_name_person',\n",
              "       ...\n",
              "       'worth', 'would', 'write', 'x', 'yamuna', 'year', 'yeoor', 'yet', 'yr',\n",
              "       'zero'],\n",
              "      dtype='object', length=988)"
            ]
          },
          "metadata": {},
          "execution_count": 5
        }
      ],
      "source": [
        "df.columns"
      ]
    },
    {
      "cell_type": "code",
      "execution_count": null,
      "metadata": {
        "id": "ekjfwsLNov_F"
      },
      "outputs": [],
      "source": [
        "df.loc[df['nl_open'] < 0, 'nl_open'] = 0\n",
        "df.loc[df['nl_open'] > 0, 'nl_open'] = 1"
      ]
    },
    {
      "cell_type": "code",
      "execution_count": null,
      "metadata": {
        "id": "Vink4X1lmbvc"
      },
      "outputs": [],
      "source": [
        "Y = df['nl_open']"
      ]
    },
    {
      "cell_type": "code",
      "execution_count": null,
      "metadata": {
        "colab": {
          "base_uri": "https://localhost:8080/"
        },
        "id": "6SyZYeZWL-W7",
        "outputId": "fac50c98-91dd-4849-8a8a-3401b135f619"
      },
      "outputs": [
        {
          "output_type": "execute_result",
          "data": {
            "text/plain": [
              "0    9273287\n",
              "1     296087\n",
              "Name: nl_open, dtype: int64"
            ]
          },
          "metadata": {},
          "execution_count": 8
        }
      ],
      "source": [
        "Y.value_counts()"
      ]
    },
    {
      "cell_type": "code",
      "execution_count": null,
      "metadata": {
        "colab": {
          "base_uri": "https://localhost:8080/"
        },
        "id": "AU9iFlRKchn2",
        "outputId": "eceebc4b-7d72-42fa-d6f8-5ada7f16924f"
      },
      "outputs": [
        {
          "output_type": "stream",
          "name": "stdout",
          "text": [
            "subject\n"
          ]
        }
      ],
      "source": [
        "colname = df.columns[3]\n",
        "print(colname)"
      ]
    },
    {
      "cell_type": "code",
      "execution_count": null,
      "metadata": {
        "id": "iSP61hV5mf2D"
      },
      "outputs": [],
      "source": [
        "X = df.iloc[:, np.r_[6,7,10,16:30,38:49]]\n",
        "X1 = df.iloc[:, np.r_[6,7,10,16:30,38:988]]"
      ]
    },
    {
      "cell_type": "code",
      "execution_count": null,
      "metadata": {
        "colab": {
          "base_uri": "https://localhost:8080/"
        },
        "id": "6GQ4KqFQdGNj",
        "outputId": "d3aca5c0-8f0a-4310-c59d-5936b1aa6ca5"
      },
      "outputs": [
        {
          "output_type": "stream",
          "name": "stdout",
          "text": [
            "['percentage_used', 'sender_name_brand', 'sender_name_others', 'is_male', 'automobile', 'bfsi_business_loan', 'bfsi_credit_cards', 'bfsi_equity', 'bfsi_fixed_deposit', 'bfsi_health_ins', 'bfsi_motor_ins', 'bfsi_mutual_funds', 'bfsi_personal_loan', 'bfsi_term_ins', 'education', 'health', 'real_estate', 'upto19yrs', '20to24yrs', '25to34yrs', '35to44yrs', '45to54yrs', '55+yrs', 'accupto2', 'acc3to5yrs', 'acc6to10yrs', 'acc11to15yrs', 'acc15+yrs']\n"
          ]
        }
      ],
      "source": [
        "feature_cols = list(X)\n",
        "print(feature_cols)"
      ]
    },
    {
      "cell_type": "markdown",
      "metadata": {
        "id": "ASb8y4rYz3l0"
      },
      "source": [
        "Without Tokens"
      ]
    },
    {
      "cell_type": "code",
      "execution_count": null,
      "metadata": {
        "id": "cCewwpGlzl0Y"
      },
      "outputs": [],
      "source": [
        "X_train, X_test, y_train, y_test = train_test_split( X, Y, test_size = 0.3, random_state = 100)"
      ]
    },
    {
      "cell_type": "code",
      "execution_count": null,
      "metadata": {
        "id": "TYSKk2Qczl0Z",
        "colab": {
          "base_uri": "https://localhost:8080/"
        },
        "outputId": "851e30fe-8df2-460e-ee99-633196488fd1"
      },
      "outputs": [
        {
          "output_type": "stream",
          "name": "stdout",
          "text": [
            "(6698561, 28) (2870813, 28)\n"
          ]
        }
      ],
      "source": [
        "print(X_train.shape,X_test.shape)"
      ]
    },
    {
      "cell_type": "code",
      "execution_count": null,
      "metadata": {
        "id": "MGylab9yzl0Z",
        "colab": {
          "base_uri": "https://localhost:8080/"
        },
        "outputId": "463bec79-ca37-4f99-e581-0520a1212633"
      },
      "outputs": [
        {
          "output_type": "stream",
          "name": "stdout",
          "text": [
            "(6698561,) (2870813,)\n"
          ]
        }
      ],
      "source": [
        "print(y_train.shape,y_test.shape)"
      ]
    },
    {
      "cell_type": "code",
      "execution_count": null,
      "metadata": {
        "id": "oaqQFJvAzl0Z",
        "colab": {
          "base_uri": "https://localhost:8080/"
        },
        "outputId": "a9b3d26e-0427-40bd-b5ee-3f7e4bf2d5de"
      },
      "outputs": [
        {
          "output_type": "stream",
          "name": "stdout",
          "text": [
            "Gaussian Naive Bayes model accuracy(in %): 93.72951146591575\n"
          ]
        }
      ],
      "source": [
        "# Gaussian Naive Bayes model\n",
        "from sklearn.naive_bayes import GaussianNB\n",
        "from sklearn.metrics import confusion_matrix\n",
        "from sklearn.metrics import classification_report\n",
        "\n",
        "# training the model on training set\n",
        "\n",
        "gnb = GaussianNB()\n",
        "gnb.fit(X_train, y_train)\n",
        "\n",
        "# making predictions on the testing set\n",
        "y_pred = gnb.predict(X_test)\n",
        "\n",
        "# comparing actual response values (y_test) with predicted response values (y_pred)\n",
        "from sklearn import metrics\n",
        "print(\"Gaussian Naive Bayes model accuracy(in %):\", metrics.accuracy_score(y_test, y_pred)*100)\n"
      ]
    },
    {
      "cell_type": "code",
      "execution_count": null,
      "metadata": {
        "id": "o2IzzNUvzl0Z",
        "colab": {
          "base_uri": "https://localhost:8080/"
        },
        "outputId": "d535b753-4351-40ad-e956-f2360ca1c5a8"
      },
      "outputs": [
        {
          "output_type": "stream",
          "name": "stdout",
          "text": [
            "[[2685372   96967]\n",
            " [  83047    5427]]\n"
          ]
        }
      ],
      "source": [
        "# print the confusion matrix\n",
        "cm_gnb = metrics.confusion_matrix(y_test, y_pred)\n",
        "print(cm_gnb)"
      ]
    },
    {
      "cell_type": "code",
      "execution_count": null,
      "metadata": {
        "id": "xUjJnTSgzl0a",
        "colab": {
          "base_uri": "https://localhost:8080/",
          "height": 293
        },
        "outputId": "c2e84149-1afe-4a0f-f10c-e35cd0b98f41"
      },
      "outputs": [
        {
          "output_type": "execute_result",
          "data": {
            "text/plain": [
              "<matplotlib.axes._subplots.AxesSubplot at 0x7fa9484d0d10>"
            ]
          },
          "metadata": {},
          "execution_count": 18
        },
        {
          "output_type": "display_data",
          "data": {
            "text/plain": [
              "<Figure size 432x288 with 2 Axes>"
            ],
            "image/png": "[encoded data removed]"
          },
          "metadata": {
            "needs_background": "light"
          }
        }
      ],
      "source": [
        "import seaborn as sns\n",
        "sns.heatmap(cm_gnb, annot=True, cmap='Blues',fmt='g')"
      ]
    },
    {
      "cell_type": "code",
      "execution_count": null,
      "metadata": {
        "id": "hMHOBgVEzl0a",
        "colab": {
          "base_uri": "https://localhost:8080/"
        },
        "outputId": "51b267e3-3b82-45e9-b9d1-758a9c49dd6e"
      },
      "outputs": [
        {
          "output_type": "stream",
          "name": "stdout",
          "text": [
            "              precision    recall  f1-score   support\n",
            "\n",
            "           0       0.97      0.97      0.97   2782339\n",
            "           1       0.05      0.06      0.06     88474\n",
            "\n",
            "    accuracy                           0.94   2870813\n",
            "   macro avg       0.51      0.51      0.51   2870813\n",
            "weighted avg       0.94      0.94      0.94   2870813\n",
            "\n"
          ]
        }
      ],
      "source": [
        "print(classification_report(y_test, y_pred))"
      ]
    },
    {
      "cell_type": "code",
      "execution_count": null,
      "metadata": {
        "id": "hZbPYp4Tzl0b",
        "colab": {
          "base_uri": "https://localhost:8080/"
        },
        "outputId": "bd0ae973-00d6-4c47-ef92-820abf5c4856"
      },
      "outputs": [
        {
          "output_type": "stream",
          "name": "stdout",
          "text": [
            "Bernoulli Naive Bayes model accuracy(in %): 96.9181552403448\n"
          ]
        }
      ],
      "source": [
        "# Bernoulli Naive Bayes model\n",
        "from sklearn.naive_bayes import BernoulliNB\n",
        "\n",
        "bnb = BernoulliNB(binarize=True)\n",
        "bnb.fit(X_train, y_train)\n",
        "\n",
        " # making predictions on the testing set\n",
        "y_pred = bnb.predict(X_test)\n",
        "\n",
        "# comparing actual response values (y_test) with predicted response values (y_pred)\n",
        "from sklearn import metrics\n",
        "print(\"Bernoulli Naive Bayes model accuracy(in %):\", metrics.accuracy_score(y_test, y_pred)*100)"
      ]
    },
    {
      "cell_type": "code",
      "execution_count": null,
      "metadata": {
        "id": "dXuPut7Gzl0b",
        "colab": {
          "base_uri": "https://localhost:8080/"
        },
        "outputId": "9d19ba7d-db68-4d45-e5bf-88a6ad9145c2"
      },
      "outputs": [
        {
          "output_type": "stream",
          "name": "stdout",
          "text": [
            "[[2782339       0]\n",
            " [  88474       0]]\n"
          ]
        }
      ],
      "source": [
        "# print the confusion matrix\n",
        "cm_bnb = metrics.confusion_matrix(y_test, y_pred)\n",
        "print(cm_bnb)"
      ]
    },
    {
      "cell_type": "code",
      "execution_count": null,
      "metadata": {
        "id": "K2pQXndnzl0b",
        "colab": {
          "base_uri": "https://localhost:8080/",
          "height": 293
        },
        "outputId": "4fe2bcc7-63a2-45bc-fe32-674d2a4af61c"
      },
      "outputs": [
        {
          "output_type": "execute_result",
          "data": {
            "text/plain": [
              "<matplotlib.axes._subplots.AxesSubplot at 0x7fa942ba0e10>"
            ]
          },
          "metadata": {},
          "execution_count": 22
        },
        {
          "output_type": "display_data",
          "data": {
            "text/plain": [
              "<Figure size 432x288 with 2 Axes>"
            ],
            "image/png": "[encoded data removed]"
          },
          "metadata": {
            "needs_background": "light"
          }
        }
      ],
      "source": [
        "import seaborn as sns\n",
        "sns.heatmap(cm_bnb, annot=True, cmap='Blues',fmt='g')"
      ]
    },
    {
      "cell_type": "code",
      "execution_count": null,
      "metadata": {
        "id": "5xZAOr9xzl0c",
        "colab": {
          "base_uri": "https://localhost:8080/"
        },
        "outputId": "e69383da-3c59-4287-e4e7-91aaddad74aa"
      },
      "outputs": [
        {
          "output_type": "stream",
          "name": "stderr",
          "text": [
            "/usr/local/lib/python3.7/dist-packages/sklearn/metrics/_classification.py:1318: UndefinedMetricWarning: Precision and F-score are ill-defined and being set to 0.0 in labels with no predicted samples. Use `zero_division` parameter to control this behavior.\n",
            "  _warn_prf(average, modifier, msg_start, len(result))\n",
            "/usr/local/lib/python3.7/dist-packages/sklearn/metrics/_classification.py:1318: UndefinedMetricWarning: Precision and F-score are ill-defined and being set to 0.0 in labels with no predicted samples. Use `zero_division` parameter to control this behavior.\n",
            "  _warn_prf(average, modifier, msg_start, len(result))\n"
          ]
        },
        {
          "output_type": "stream",
          "name": "stdout",
          "text": [
            "              precision    recall  f1-score   support\n",
            "\n",
            "           0       0.97      1.00      0.98   2782339\n",
            "           1       0.00      0.00      0.00     88474\n",
            "\n",
            "    accuracy                           0.97   2870813\n",
            "   macro avg       0.48      0.50      0.49   2870813\n",
            "weighted avg       0.94      0.97      0.95   2870813\n",
            "\n"
          ]
        },
        {
          "output_type": "stream",
          "name": "stderr",
          "text": [
            "/usr/local/lib/python3.7/dist-packages/sklearn/metrics/_classification.py:1318: UndefinedMetricWarning: Precision and F-score are ill-defined and being set to 0.0 in labels with no predicted samples. Use `zero_division` parameter to control this behavior.\n",
            "  _warn_prf(average, modifier, msg_start, len(result))\n"
          ]
        }
      ],
      "source": [
        "print(classification_report(y_test, y_pred))"
      ]
    },
    {
      "cell_type": "code",
      "execution_count": null,
      "metadata": {
        "id": "RY0Owd-jzl0c",
        "colab": {
          "base_uri": "https://localhost:8080/"
        },
        "outputId": "4add805e-32ee-44b3-b28c-f10fd32832d8"
      },
      "outputs": [
        {
          "output_type": "stream",
          "name": "stdout",
          "text": [
            "Multinomial Naive Bayes model accuracy(in %): 3.081844759655192\n"
          ]
        }
      ],
      "source": [
        "# Multinomial Naive Bayes model\n",
        "\n",
        "from sklearn.naive_bayes import MultinomialNB\n",
        "mnb = MultinomialNB()\n",
        "mnb = MultinomialNB(alpha=1.0, class_prior=[0.25, 0.75], fit_prior=True)\n",
        "mnb.fit(X_train, y_train)\n",
        "mnb.class_prior\n",
        "\n",
        "#making predictions on the testing set\n",
        "y_pred = mnb.predict(X_test)\n",
        "\n",
        "# comparing actual response values (y_test) with predicted response values (y_pred)\n",
        "from sklearn import metrics\n",
        "print(\"Multinomial Naive Bayes model accuracy(in %):\", metrics.accuracy_score(y_test, y_pred)*100)"
      ]
    },
    {
      "cell_type": "code",
      "execution_count": null,
      "metadata": {
        "id": "1mVNaD-izl0c",
        "colab": {
          "base_uri": "https://localhost:8080/"
        },
        "outputId": "eb4d144a-63f5-4fbd-d6f1-62584b4555f8"
      },
      "outputs": [
        {
          "output_type": "execute_result",
          "data": {
            "text/plain": [
              "0    2782339\n",
              "1      88474\n",
              "Name: nl_open, dtype: int64"
            ]
          },
          "metadata": {},
          "execution_count": 25
        }
      ],
      "source": [
        "y_test.value_counts()"
      ]
    },
    {
      "cell_type": "code",
      "execution_count": null,
      "metadata": {
        "id": "Hdn4o_K7zl0c",
        "colab": {
          "base_uri": "https://localhost:8080/"
        },
        "outputId": "2ace3233-af04-4608-967d-c5fe36205e36"
      },
      "outputs": [
        {
          "output_type": "stream",
          "name": "stdout",
          "text": [
            "[[      0 2782339]\n",
            " [      0   88474]]\n"
          ]
        }
      ],
      "source": [
        "# print the confusion matrix\n",
        "cm_mnb = metrics.confusion_matrix(y_test, y_pred)\n",
        "print(cm_mnb)"
      ]
    },
    {
      "cell_type": "code",
      "execution_count": null,
      "metadata": {
        "id": "dfoYQvkNzl0d",
        "colab": {
          "base_uri": "https://localhost:8080/",
          "height": 293
        },
        "outputId": "3f437f7a-8ecd-4755-8781-3db0a6d897c0"
      },
      "outputs": [
        {
          "output_type": "execute_result",
          "data": {
            "text/plain": [
              "<matplotlib.axes._subplots.AxesSubplot at 0x7fa942650c90>"
            ]
          },
          "metadata": {},
          "execution_count": 27
        },
        {
          "output_type": "display_data",
          "data": {
            "text/plain": [
              "<Figure size 432x288 with 2 Axes>"
            ],
            "image/png": "[encoded data removed]"
          },
          "metadata": {
            "needs_background": "light"
          }
        }
      ],
      "source": [
        "import seaborn as sns\n",
        "sns.heatmap(cm_mnb, annot=True, cmap='Blues',fmt='g')"
      ]
    },
    {
      "cell_type": "code",
      "execution_count": null,
      "metadata": {
        "id": "W9SKMM4mzl0d",
        "colab": {
          "base_uri": "https://localhost:8080/"
        },
        "outputId": "f574ef96-f675-4412-c319-27dc9d1dc12f"
      },
      "outputs": [
        {
          "output_type": "stream",
          "name": "stderr",
          "text": [
            "/usr/local/lib/python3.7/dist-packages/sklearn/metrics/_classification.py:1318: UndefinedMetricWarning: Precision and F-score are ill-defined and being set to 0.0 in labels with no predicted samples. Use `zero_division` parameter to control this behavior.\n",
            "  _warn_prf(average, modifier, msg_start, len(result))\n",
            "/usr/local/lib/python3.7/dist-packages/sklearn/metrics/_classification.py:1318: UndefinedMetricWarning: Precision and F-score are ill-defined and being set to 0.0 in labels with no predicted samples. Use `zero_division` parameter to control this behavior.\n",
            "  _warn_prf(average, modifier, msg_start, len(result))\n"
          ]
        },
        {
          "output_type": "stream",
          "name": "stdout",
          "text": [
            "              precision    recall  f1-score   support\n",
            "\n",
            "           0       0.00      0.00      0.00   2782339\n",
            "           1       0.03      1.00      0.06     88474\n",
            "\n",
            "    accuracy                           0.03   2870813\n",
            "   macro avg       0.02      0.50      0.03   2870813\n",
            "weighted avg       0.00      0.03      0.00   2870813\n",
            "\n"
          ]
        },
        {
          "output_type": "stream",
          "name": "stderr",
          "text": [
            "/usr/local/lib/python3.7/dist-packages/sklearn/metrics/_classification.py:1318: UndefinedMetricWarning: Precision and F-score are ill-defined and being set to 0.0 in labels with no predicted samples. Use `zero_division` parameter to control this behavior.\n",
            "  _warn_prf(average, modifier, msg_start, len(result))\n"
          ]
        }
      ],
      "source": [
        "print(classification_report(y_test, y_pred))"
      ]
    },
    {
      "cell_type": "code",
      "execution_count": null,
      "metadata": {
        "id": "uHW8U-2pcb5_",
        "colab": {
          "base_uri": "https://localhost:8080/"
        },
        "outputId": "bc822491-2529-42bc-b481-c93e14c7b531"
      },
      "outputs": [
        {
          "output_type": "stream",
          "name": "stdout",
          "text": [
            "Categorical Naive Bayes model accuracy(in %): 96.9181552403448\n"
          ]
        }
      ],
      "source": [
        "# Categorical Naive Bayes model\n",
        "from sklearn.naive_bayes import CategoricalNB\n",
        "from sklearn.metrics import confusion_matrix\n",
        "from sklearn.metrics import classification_report\n",
        "\n",
        "# training the model on training set\n",
        "\n",
        "cnb = CategoricalNB()\n",
        "cnb.fit(X_train, y_train)\n",
        "\n",
        "# making predictions on the testing set\n",
        "y_pred = cnb.predict(X_test)\n",
        "\n",
        "# comparing actual response values (y_test) with predicted response values (y_pred)\n",
        "from sklearn import metrics\n",
        "print(\"Categorical Naive Bayes model accuracy(in %):\", metrics.accuracy_score(y_test, y_pred)*100)"
      ]
    },
    {
      "cell_type": "code",
      "execution_count": null,
      "metadata": {
        "id": "2EHhgMY5cb6A",
        "colab": {
          "base_uri": "https://localhost:8080/"
        },
        "outputId": "712fe9f7-b79b-4dcd-e746-c37050877731"
      },
      "outputs": [
        {
          "output_type": "stream",
          "name": "stdout",
          "text": [
            "[[2782339       0]\n",
            " [  88474       0]]\n"
          ]
        }
      ],
      "source": [
        "# print the confusion matrix\n",
        "cm_cnb = metrics.confusion_matrix(y_test, y_pred)\n",
        "print(cm_cnb)"
      ]
    },
    {
      "cell_type": "code",
      "execution_count": null,
      "metadata": {
        "id": "Foiq7Cf9cb6B",
        "colab": {
          "base_uri": "https://localhost:8080/",
          "height": 293
        },
        "outputId": "69188a4a-9b36-442a-82da-6c844aef7343"
      },
      "outputs": [
        {
          "output_type": "execute_result",
          "data": {
            "text/plain": [
              "<matplotlib.axes._subplots.AxesSubplot at 0x7fa942bb6510>"
            ]
          },
          "metadata": {},
          "execution_count": 31
        },
        {
          "output_type": "display_data",
          "data": {
            "text/plain": [
              "<Figure size 432x288 with 2 Axes>"
            ],
            "image/png": "[encoded data removed]"
          },
          "metadata": {
            "needs_background": "light"
          }
        }
      ],
      "source": [
        "import seaborn as sns\n",
        "sns.heatmap(cm_cnb, annot=True, cmap='Blues',fmt='g')"
      ]
    },
    {
      "cell_type": "code",
      "execution_count": null,
      "metadata": {
        "id": "BesHPv2wcb6B",
        "colab": {
          "base_uri": "https://localhost:8080/"
        },
        "outputId": "c7b5c16b-b01d-4e36-d745-52f2f1905c93"
      },
      "outputs": [
        {
          "output_type": "stream",
          "name": "stderr",
          "text": [
            "/usr/local/lib/python3.7/dist-packages/sklearn/metrics/_classification.py:1318: UndefinedMetricWarning: Precision and F-score are ill-defined and being set to 0.0 in labels with no predicted samples. Use `zero_division` parameter to control this behavior.\n",
            "  _warn_prf(average, modifier, msg_start, len(result))\n",
            "/usr/local/lib/python3.7/dist-packages/sklearn/metrics/_classification.py:1318: UndefinedMetricWarning: Precision and F-score are ill-defined and being set to 0.0 in labels with no predicted samples. Use `zero_division` parameter to control this behavior.\n",
            "  _warn_prf(average, modifier, msg_start, len(result))\n"
          ]
        },
        {
          "output_type": "stream",
          "name": "stdout",
          "text": [
            "              precision    recall  f1-score   support\n",
            "\n",
            "           0       0.97      1.00      0.98   2782339\n",
            "           1       0.00      0.00      0.00     88474\n",
            "\n",
            "    accuracy                           0.97   2870813\n",
            "   macro avg       0.48      0.50      0.49   2870813\n",
            "weighted avg       0.94      0.97      0.95   2870813\n",
            "\n"
          ]
        },
        {
          "output_type": "stream",
          "name": "stderr",
          "text": [
            "/usr/local/lib/python3.7/dist-packages/sklearn/metrics/_classification.py:1318: UndefinedMetricWarning: Precision and F-score are ill-defined and being set to 0.0 in labels with no predicted samples. Use `zero_division` parameter to control this behavior.\n",
            "  _warn_prf(average, modifier, msg_start, len(result))\n"
          ]
        }
      ],
      "source": [
        "print(classification_report(y_test, y_pred))"
      ]
    }
  ],
  "metadata": {
    "colab": {
      "machine_shape": "hm",
      "provenance": [],
      "authorship_tag": "ABX9TyNZs4fGDg/7WmbfL31B9AoS",
      "include_colab_link": true
    },
    "kernelspec": {
      "display_name": "Python 3",
      "name": "python3"
    },
    "language_info": {
      "name": "python"
    }
  },
  "nbformat": 4,
  "nbformat_minor": 0
}