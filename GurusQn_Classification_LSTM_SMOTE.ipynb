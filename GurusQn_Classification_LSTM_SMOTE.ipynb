{
  "cells": [
    {
      "cell_type": "markdown",
      "metadata": {
        "id": "view-in-github",
        "colab_type": "text"
      },
      "source": [
        "<a href=\"https://colab.research.google.com/github/MN1973/DataScienceProject/blob/main/GurusQn_Classification_LSTM_SMOTE.ipynb\" target=\"_parent\"><img src=\"https://colab.research.google.com/assets/colab-badge.svg\" alt=\"Open In Colab\"/></a>"
      ]
    },
    {
      "cell_type": "code",
      "execution_count": null,
      "metadata": {
        "colab": {
          "base_uri": "https://localhost:8080/"
        },
        "id": "jS2qQ2ljRC5N",
        "outputId": "8cb519c3-8d76-48fd-8e02-0125f4e56241"
      },
      "outputs": [
        {
          "name": "stdout",
          "output_type": "stream",
          "text": [
            "Mounted at /content/drive\n"
          ]
        }
      ],
      "source": [
        "from google.colab import drive\n",
        "drive.mount('/content/drive')"
      ]
    },
    {
      "cell_type": "code",
      "execution_count": null,
      "metadata": {
        "id": "NeqfuWvVgIH2"
      },
      "outputs": [],
      "source": [
        "import numpy as np\n",
        "import pandas as pd\n",
        "import matplotlib.pyplot as plt\n",
        "import seaborn as sns\n",
        "import tensorflow as tf\n",
        "from tensorflow import keras\n",
        "from tensorflow.keras.optimizers import Adam\n",
        "from tensorflow.keras.preprocessing.text import Tokenizer\n",
        "from tensorflow.keras.preprocessing.sequence import pad_sequences\n",
        "from tensorflow.keras.models import Sequential\n",
        "from tensorflow.keras.layers import Embedding, LSTM, Conv2D, Flatten, GlobalMaxPooling1D, Dense, Dropout\n",
        "from tensorflow.keras.callbacks import EarlyStopping, ModelCheckpoint\n",
        "from sklearn.model_selection import train_test_split\n",
        "from sklearn.metrics import classification_report\n",
        "from sklearn.metrics import make_scorer, f1_score\n",
        "from sklearn.model_selection import GridSearchCV\n",
        "import nltk\n",
        "import re\n",
        "from sklearn.metrics import f1_score\n",
        "from nltk.corpus import stopwords\n",
        "from nltk.stem import SnowballStemmer\n",
        "from imblearn.over_sampling import SMOTE\n",
        "\n"
      ]
    },
    {
      "cell_type": "code",
      "execution_count": null,
      "metadata": {
        "id": "YhFDh1xRTMY8"
      },
      "outputs": [],
      "source": [
        "# Load the CSV file\n",
        "df=pd.read_csv(r\"/content/drive/MyDrive/Gurus_URLs.csv\")"
      ]
    },
    {
      "cell_type": "code",
      "execution_count": null,
      "metadata": {
        "colab": {
          "base_uri": "https://localhost:8080/",
          "height": 293
        },
        "id": "cIsXEbi9FyRB",
        "outputId": "dab156bb-e54f-4ca2-e150-56a897684616"
      },
      "outputs": [
        {
          "data": {
            "text/html": [
              "\n",
              "  <div id=\"df-b96bc80b-9713-4d3f-85ff-3dc45d2ff827\" class=\"colab-df-container\">\n",
              "    <div>\n",
              "<style scoped>\n",
              "    .dataframe tbody tr th:only-of-type {\n",
              "        vertical-align: middle;\n",
              "    }\n",
              "\n",
              "    .dataframe tbody tr th {\n",
              "        vertical-align: top;\n",
              "    }\n",
              "\n",
              "    .dataframe thead th {\n",
              "        text-align: right;\n",
              "    }\n",
              "</style>\n",
              "<table border=\"1\" class=\"dataframe\">\n",
              "  <thead>\n",
              "    <tr style=\"text-align: right;\">\n",
              "      <th></th>\n",
              "      <th>Srno</th>\n",
              "      <th>url</th>\n",
              "      <th>total_impressions</th>\n",
              "      <th>total_clicks</th>\n",
              "      <th>expected_clicks</th>\n",
              "      <th>url_score</th>\n",
              "      <th>qno</th>\n",
              "      <th>Text</th>\n",
              "      <th>Label</th>\n",
              "    </tr>\n",
              "  </thead>\n",
              "  <tbody>\n",
              "    <tr>\n",
              "      <th>0</th>\n",
              "      <td>1</td>\n",
              "      <td>https://gurus.rediff.com/question/question-det...</td>\n",
              "      <td>44,751</td>\n",
              "      <td>1,926</td>\n",
              "      <td>228</td>\n",
              "      <td>8.43</td>\n",
              "      <td>5139076</td>\n",
              "      <td>My wife is having illegit sexual relationship ...</td>\n",
              "      <td>1</td>\n",
              "    </tr>\n",
              "    <tr>\n",
              "      <th>1</th>\n",
              "      <td>2</td>\n",
              "      <td>https://gurus.rediff.com/question/question-det...</td>\n",
              "      <td>53,917</td>\n",
              "      <td>824</td>\n",
              "      <td>179</td>\n",
              "      <td>4.60</td>\n",
              "      <td>5137231</td>\n",
              "      <td>Recently my elder brother has expired. His wif...</td>\n",
              "      <td>1</td>\n",
              "    </tr>\n",
              "    <tr>\n",
              "      <th>2</th>\n",
              "      <td>3</td>\n",
              "      <td>https://gurus.rediff.com/question/question-det...</td>\n",
              "      <td>251,863</td>\n",
              "      <td>5,208</td>\n",
              "      <td>1,181</td>\n",
              "      <td>4.41</td>\n",
              "      <td>5143452</td>\n",
              "      <td>I am 64 and my wife 60 yrs of age . I want fre...</td>\n",
              "      <td>1</td>\n",
              "    </tr>\n",
              "    <tr>\n",
              "      <th>3</th>\n",
              "      <td>4</td>\n",
              "      <td>https://gurus.rediff.com/question/question-det...</td>\n",
              "      <td>184,427</td>\n",
              "      <td>3,702</td>\n",
              "      <td>886</td>\n",
              "      <td>4.18</td>\n",
              "      <td>5143494</td>\n",
              "      <td>I have a GF who wanted to get intimate with me...</td>\n",
              "      <td>1</td>\n",
              "    </tr>\n",
              "    <tr>\n",
              "      <th>4</th>\n",
              "      <td>5</td>\n",
              "      <td>https://gurus.rediff.com/question/question-det...</td>\n",
              "      <td>17,175</td>\n",
              "      <td>311</td>\n",
              "      <td>75</td>\n",
              "      <td>4.15</td>\n",
              "      <td>5137979</td>\n",
              "      <td>Hi Anu \\n\\nI am 52 , I am in a relationship wi...</td>\n",
              "      <td>1</td>\n",
              "    </tr>\n",
              "  </tbody>\n",
              "</table>\n",
              "</div>\n",
              "    <div class=\"colab-df-buttons\">\n",
              "\n",
              "  <div class=\"colab-df-container\">\n",
              "    <button class=\"colab-df-convert\" onclick=\"convertToInteractive('df-b96bc80b-9713-4d3f-85ff-3dc45d2ff827')\"\n",
              "            title=\"Convert this dataframe to an interactive table.\"\n",
              "            style=\"display:none;\">\n",
              "\n",
              "  <svg xmlns=\"http://www.w3.org/2000/svg\" height=\"24px\" viewBox=\"0 -960 960 960\">\n",
              "    <path d=\"M120-120v-720h720v720H120Zm60-500h600v-160H180v160Zm220 220h160v-160H400v160Zm0 220h160v-160H400v160ZM180-400h160v-160H180v160Zm440 0h160v-160H620v160ZM180-180h160v-160H180v160Zm440 0h160v-160H620v160Z\"/>\n",
              "  </svg>\n",
              "    </button>\n",
              "\n",
              "  <style>\n",
              "    .colab-df-container {\n",
              "      display:flex;\n",
              "      gap: 12px;\n",
              "    }\n",
              "\n",
              "    .colab-df-convert {\n",
              "      background-color: #E8F0FE;\n",
              "      border: none;\n",
              "      border-radius: 50%;\n",
              "      cursor: pointer;\n",
              "      display: none;\n",
              "      fill: #1967D2;\n",
              "      height: 32px;\n",
              "      padding: 0 0 0 0;\n",
              "      width: 32px;\n",
              "    }\n",
              "\n",
              "    .colab-df-convert:hover {\n",
              "      background-color: #E2EBFA;\n",
              "      box-shadow: 0px 1px 2px rgba(60, 64, 67, 0.3), 0px 1px 3px 1px rgba(60, 64, 67, 0.15);\n",
              "      fill: #174EA6;\n",
              "    }\n",
              "\n",
              "    .colab-df-buttons div {\n",
              "      margin-bottom: 4px;\n",
              "    }\n",
              "\n",
              "    [theme=dark] .colab-df-convert {\n",
              "      background-color: #3B4455;\n",
              "      fill: #D2E3FC;\n",
              "    }\n",
              "\n",
              "    [theme=dark] .colab-df-convert:hover {\n",
              "      background-color: #434B5C;\n",
              "      box-shadow: 0px 1px 3px 1px rgba(0, 0, 0, 0.15);\n",
              "      filter: drop-shadow(0px 1px 2px rgba(0, 0, 0, 0.3));\n",
              "      fill: #FFFFFF;\n",
              "    }\n",
              "  </style>\n",
              "\n",
              "    <script>\n",
              "      const buttonEl =\n",
              "        document.querySelector('#df-b96bc80b-9713-4d3f-85ff-3dc45d2ff827 button.colab-df-convert');\n",
              "      buttonEl.style.display =\n",
              "        google.colab.kernel.accessAllowed ? 'block' : 'none';\n",
              "\n",
              "      async function convertToInteractive(key) {\n",
              "        const element = document.querySelector('#df-b96bc80b-9713-4d3f-85ff-3dc45d2ff827');\n",
              "        const dataTable =\n",
              "          await google.colab.kernel.invokeFunction('convertToInteractive',\n",
              "                                                    [key], {});\n",
              "        if (!dataTable) return;\n",
              "\n",
              "        const docLinkHtml = 'Like what you see? Visit the ' +\n",
              "          '<a target=\"_blank\" href=https://colab.research.google.com/notebooks/data_table.ipynb>data table notebook</a>'\n",
              "          + ' to learn more about interactive tables.';\n",
              "        element.innerHTML = '';\n",
              "        dataTable['output_type'] = 'display_data';\n",
              "        await google.colab.output.renderOutput(dataTable, element);\n",
              "        const docLink = document.createElement('div');\n",
              "        docLink.innerHTML = docLinkHtml;\n",
              "        element.appendChild(docLink);\n",
              "      }\n",
              "    </script>\n",
              "  </div>\n",
              "\n",
              "\n",
              "<div id=\"df-c2c57c16-7047-429b-b0a9-0cee2ea797d4\">\n",
              "  <button class=\"colab-df-quickchart\" onclick=\"quickchart('df-c2c57c16-7047-429b-b0a9-0cee2ea797d4')\"\n",
              "            title=\"Suggest charts.\"\n",
              "            style=\"display:none;\">\n",
              "\n",
              "<svg xmlns=\"http://www.w3.org/2000/svg\" height=\"24px\"viewBox=\"0 0 24 24\"\n",
              "     width=\"24px\">\n",
              "    <g>\n",
              "        <path d=\"M19 3H5c-1.1 0-2 .9-2 2v14c0 1.1.9 2 2 2h14c1.1 0 2-.9 2-2V5c0-1.1-.9-2-2-2zM9 17H7v-7h2v7zm4 0h-2V7h2v10zm4 0h-2v-4h2v4z\"/>\n",
              "    </g>\n",
              "</svg>\n",
              "  </button>\n",
              "\n",
              "<style>\n",
              "  .colab-df-quickchart {\n",
              "      --bg-color: #E8F0FE;\n",
              "      --fill-color: #1967D2;\n",
              "      --hover-bg-color: #E2EBFA;\n",
              "      --hover-fill-color: #174EA6;\n",
              "      --disabled-fill-color: #AAA;\n",
              "      --disabled-bg-color: #DDD;\n",
              "  }\n",
              "\n",
              "  [theme=dark] .colab-df-quickchart {\n",
              "      --bg-color: #3B4455;\n",
              "      --fill-color: #D2E3FC;\n",
              "      --hover-bg-color: #434B5C;\n",
              "      --hover-fill-color: #FFFFFF;\n",
              "      --disabled-bg-color: #3B4455;\n",
              "      --disabled-fill-color: #666;\n",
              "  }\n",
              "\n",
              "  .colab-df-quickchart {\n",
              "    background-color: var(--bg-color);\n",
              "    border: none;\n",
              "    border-radius: 50%;\n",
              "    cursor: pointer;\n",
              "    display: none;\n",
              "    fill: var(--fill-color);\n",
              "    height: 32px;\n",
              "    padding: 0;\n",
              "    width: 32px;\n",
              "  }\n",
              "\n",
              "  .colab-df-quickchart:hover {\n",
              "    background-color: var(--hover-bg-color);\n",
              "    box-shadow: 0 1px 2px rgba(60, 64, 67, 0.3), 0 1px 3px 1px rgba(60, 64, 67, 0.15);\n",
              "    fill: var(--button-hover-fill-color);\n",
              "  }\n",
              "\n",
              "  .colab-df-quickchart-complete:disabled,\n",
              "  .colab-df-quickchart-complete:disabled:hover {\n",
              "    background-color: var(--disabled-bg-color);\n",
              "    fill: var(--disabled-fill-color);\n",
              "    box-shadow: none;\n",
              "  }\n",
              "\n",
              "  .colab-df-spinner {\n",
              "    border: 2px solid var(--fill-color);\n",
              "    border-color: transparent;\n",
              "    border-bottom-color: var(--fill-color);\n",
              "    animation:\n",
              "      spin 1s steps(1) infinite;\n",
              "  }\n",
              "\n",
              "  @keyframes spin {\n",
              "    0% {\n",
              "      border-color: transparent;\n",
              "      border-bottom-color: var(--fill-color);\n",
              "      border-left-color: var(--fill-color);\n",
              "    }\n",
              "    20% {\n",
              "      border-color: transparent;\n",
              "      border-left-color: var(--fill-color);\n",
              "      border-top-color: var(--fill-color);\n",
              "    }\n",
              "    30% {\n",
              "      border-color: transparent;\n",
              "      border-left-color: var(--fill-color);\n",
              "      border-top-color: var(--fill-color);\n",
              "      border-right-color: var(--fill-color);\n",
              "    }\n",
              "    40% {\n",
              "      border-color: transparent;\n",
              "      border-right-color: var(--fill-color);\n",
              "      border-top-color: var(--fill-color);\n",
              "    }\n",
              "    60% {\n",
              "      border-color: transparent;\n",
              "      border-right-color: var(--fill-color);\n",
              "    }\n",
              "    80% {\n",
              "      border-color: transparent;\n",
              "      border-right-color: var(--fill-color);\n",
              "      border-bottom-color: var(--fill-color);\n",
              "    }\n",
              "    90% {\n",
              "      border-color: transparent;\n",
              "      border-bottom-color: var(--fill-color);\n",
              "    }\n",
              "  }\n",
              "</style>\n",
              "\n",
              "  <script>\n",
              "    async function quickchart(key) {\n",
              "      const quickchartButtonEl =\n",
              "        document.querySelector('#' + key + ' button');\n",
              "      quickchartButtonEl.disabled = true;  // To prevent multiple clicks.\n",
              "      quickchartButtonEl.classList.add('colab-df-spinner');\n",
              "      try {\n",
              "        const charts = await google.colab.kernel.invokeFunction(\n",
              "            'suggestCharts', [key], {});\n",
              "      } catch (error) {\n",
              "        console.error('Error during call to suggestCharts:', error);\n",
              "      }\n",
              "      quickchartButtonEl.classList.remove('colab-df-spinner');\n",
              "      quickchartButtonEl.classList.add('colab-df-quickchart-complete');\n",
              "    }\n",
              "    (() => {\n",
              "      let quickchartButtonEl =\n",
              "        document.querySelector('#df-c2c57c16-7047-429b-b0a9-0cee2ea797d4 button');\n",
              "      quickchartButtonEl.style.display =\n",
              "        google.colab.kernel.accessAllowed ? 'block' : 'none';\n",
              "    })();\n",
              "  </script>\n",
              "</div>\n",
              "\n",
              "    </div>\n",
              "  </div>\n"
            ],
            "text/plain": [
              "   Srno                                                url total_impressions  \\\n",
              "0     1  https://gurus.rediff.com/question/question-det...           44,751    \n",
              "1     2  https://gurus.rediff.com/question/question-det...           53,917    \n",
              "2     3  https://gurus.rediff.com/question/question-det...          251,863    \n",
              "3     4  https://gurus.rediff.com/question/question-det...          184,427    \n",
              "4     5  https://gurus.rediff.com/question/question-det...           17,175    \n",
              "\n",
              "  total_clicks expected_clicks  url_score      qno  \\\n",
              "0       1,926             228        8.43  5139076   \n",
              "1         824             179        4.60  5137231   \n",
              "2       5,208           1,181        4.41  5143452   \n",
              "3       3,702             886        4.18  5143494   \n",
              "4         311              75        4.15  5137979   \n",
              "\n",
              "                                                Text  Label  \n",
              "0  My wife is having illegit sexual relationship ...      1  \n",
              "1  Recently my elder brother has expired. His wif...      1  \n",
              "2  I am 64 and my wife 60 yrs of age . I want fre...      1  \n",
              "3  I have a GF who wanted to get intimate with me...      1  \n",
              "4  Hi Anu \\n\\nI am 52 , I am in a relationship wi...      1  "
            ]
          },
          "execution_count": 4,
          "metadata": {},
          "output_type": "execute_result"
        }
      ],
      "source": [
        "df.head()"
      ]
    },
    {
      "cell_type": "code",
      "execution_count": null,
      "metadata": {
        "id": "rA7jmtw99akd"
      },
      "outputs": [],
      "source": [
        "#Truncate the sentences at 55 characters\n",
        "max_length = 55\n",
        "\n",
        "def truncate_text(text):\n",
        "    if len(text) <= max_length:\n",
        "        return text\n",
        "    else:\n",
        "        # Find the closest word boundary before max_length\n",
        "        truncated_text = text[:max_length]\n",
        "        last_space_index = truncated_text.rfind(' ')\n",
        "        if last_space_index != -1:\n",
        "            return truncated_text[:last_space_index]\n",
        "        else:\n",
        "            return ''\n",
        "\n",
        "# Apply the truncate_text function to the \"Text\" column\n",
        "df['Text'] = df['Text'].apply(truncate_text)"
      ]
    },
    {
      "cell_type": "code",
      "execution_count": null,
      "metadata": {
        "colab": {
          "base_uri": "https://localhost:8080/"
        },
        "id": "dC4v-t_4goJs",
        "outputId": "455ae6a6-bc84-408d-b03b-f8284a563db4"
      },
      "outputs": [
        {
          "name": "stderr",
          "output_type": "stream",
          "text": [
            "[nltk_data] Downloading package words to /root/nltk_data...\n",
            "[nltk_data]   Unzipping corpora/words.zip.\n",
            "[nltk_data] Downloading package punkt to /root/nltk_data...\n",
            "[nltk_data]   Unzipping tokenizers/punkt.zip.\n",
            "[nltk_data] Downloading package stopwords to /root/nltk_data...\n",
            "[nltk_data]   Unzipping corpora/stopwords.zip.\n"
          ]
        }
      ],
      "source": [
        "#Download the NLTK words corpus (a list of standard English words)\n",
        "nltk.download('words')\n",
        "nltk.download('punkt')\n",
        "nltk.download('stopwords')\n",
        "\n",
        "# Define a function to clean text\n",
        "def clean_text(text):\n",
        "    # Tokenize the text into words\n",
        "    words = nltk.word_tokenize(text)\n",
        "\n",
        "    # Define a regular expression pattern to match alphanumeric characters and spaces\n",
        "    pattern = re.compile(r'[\\w\\s]+')\n",
        "\n",
        "    # Filter words using the pattern\n",
        "    clean_words = [word for word in words if pattern.match(word)]\n",
        "\n",
        "    # Join the clean words back into a string\n",
        "    cleaned_text = ' '.join(clean_words)\n",
        "\n",
        "    return cleaned_text\n",
        "\n",
        "# Apply the clean_text function to the 'cleaned_column' and create a new column 'cleaned_text'\n",
        "df['cleaned_text'] = df['Text'].apply(clean_text)\n",
        "\n"
      ]
    },
    {
      "cell_type": "code",
      "execution_count": null,
      "metadata": {
        "colab": {
          "base_uri": "https://localhost:8080/"
        },
        "id": "s8JnUKDfSOFj",
        "outputId": "423c427e-6876-43b2-a4ee-d3d030c0967a"
      },
      "outputs": [
        {
          "name": "stdout",
          "output_type": "stream",
          "text": [
            "0       My wife is having illegit sexual relationship ...\n",
            "1       Recently my elder brother has expired His wife...\n",
            "2       I am 64 and my wife 60 yrs of age I want frequent\n",
            "3       I have a GF who wanted to get intimate with me...\n",
            "4        Hi Anu I am 52 I am in a relationship with a man\n",
            "                              ...                        \n",
            "4307    Hellow sir Request you to please suggest and h...\n",
            "4308    why there is no LIquitidy and openness in RITE...\n",
            "4309    Can A level student appearing in May June seri...\n",
            "4310    How tu improve marks in bio mera syllabus max ...\n",
            "4311         Hi I had complete my Higher Secondary School\n",
            "Name: cleaned_text, Length: 4312, dtype: object\n"
          ]
        }
      ],
      "source": [
        "print(df['cleaned_text'])"
      ]
    },
    {
      "cell_type": "code",
      "execution_count": null,
      "metadata": {
        "id": "zUMTDiakZc4x"
      },
      "outputs": [],
      "source": [
        "def preprocess_text(cleaned_text):\n",
        "    # Convert text to lowercase\n",
        "    cleaned_text = cleaned_text.lower()\n",
        "\n",
        "    # Tokenize the text into words\n",
        "    words = nltk.word_tokenize(cleaned_text)\n",
        "\n",
        "    # Remove stopwords\n",
        "    words = [word for word in words if word not in stopwords.words('english')]\n",
        "\n",
        "    # Initialize a Snowball stemmer\n",
        "    stemmer = SnowballStemmer('english')\n",
        "\n",
        "    # Stem the words\n",
        "    words = [stemmer.stem(word) for word in words]\n",
        "\n",
        "    # Join the preprocessed words back into a string\n",
        "    processed_text = ' '.join(words)\n",
        "\n",
        "    return processed_text"
      ]
    },
    {
      "cell_type": "code",
      "execution_count": null,
      "metadata": {
        "id": "IFMci1n5cMvR"
      },
      "outputs": [],
      "source": [
        "df['cleaned_text'] = df['cleaned_text'].apply(preprocess_text)"
      ]
    },
    {
      "cell_type": "code",
      "execution_count": null,
      "metadata": {
        "id": "5senIthUiCWr"
      },
      "outputs": [],
      "source": [
        "# Tokenize the text data\n",
        "max_words = 5070\n",
        "\n",
        "tokenizer = Tokenizer(num_words=max_words, oov_token=\"<OOV>\")\n",
        "\n",
        "# Fit the tokenizer on the list of sentences\n",
        "tokenizer.fit_on_texts(df['cleaned_text'])\n",
        "\n",
        "X = tokenizer.texts_to_sequences(df['cleaned_text'])"
      ]
    },
    {
      "cell_type": "code",
      "execution_count": null,
      "metadata": {
        "id": "g34-q-eRg9er"
      },
      "outputs": [],
      "source": [
        "max_words = len(tokenizer.word_index) + 1"
      ]
    },
    {
      "cell_type": "code",
      "execution_count": null,
      "metadata": {
        "id": "Qh8BAXzQWNJZ"
      },
      "outputs": [],
      "source": [
        "max_length = 10\n",
        "X = pad_sequences(X, maxlen=max_length, padding='post', truncating='post')"
      ]
    },
    {
      "cell_type": "code",
      "execution_count": null,
      "metadata": {
        "id": "XcnM4RsCi2vc"
      },
      "outputs": [],
      "source": [
        "y = df['Label'].values"
      ]
    },
    {
      "cell_type": "code",
      "execution_count": null,
      "metadata": {
        "id": "GQq-mdnP4K5F"
      },
      "outputs": [],
      "source": [
        "word_index = tokenizer.word_index\n",
        "vocab_size = len(word_index)"
      ]
    },
    {
      "cell_type": "code",
      "execution_count": null,
      "metadata": {
        "colab": {
          "base_uri": "https://localhost:8080/"
        },
        "id": "3bF2C1jxJYUm",
        "outputId": "859be80d-f8b6-4fdf-cd8f-969816c6ea11"
      },
      "outputs": [
        {
          "name": "stdout",
          "output_type": "stream",
          "text": [
            "4322\n"
          ]
        }
      ],
      "source": [
        "print(vocab_size)"
      ]
    },
    {
      "cell_type": "code",
      "execution_count": null,
      "metadata": {
        "id": "B6AH6oC8ezjH"
      },
      "outputs": [],
      "source": [
        "# Apply SMOTE to oversample the minority class\n",
        "sm = SMOTE(sampling_strategy='auto', random_state=42)\n",
        "X_resampled, y_resampled = sm.fit_resample(X, y)"
      ]
    },
    {
      "cell_type": "code",
      "execution_count": null,
      "metadata": {
        "colab": {
          "background_save": true
        },
        "id": "_0kNTbB8i6Gj"
      },
      "outputs": [],
      "source": [
        "# Split data into training and testing sets\n",
        "from sklearn.model_selection import train_test_split\n",
        "X_train, X_val, y_train, y_val = train_test_split(X_resampled,y_resampled, test_size=0.2, random_state=42)"
      ]
    },
    {
      "cell_type": "code",
      "execution_count": null,
      "metadata": {
        "colab": {
          "base_uri": "https://localhost:8080/"
        },
        "id": "aXsIRYpDBHms",
        "outputId": "254dff79-1da1-4dbd-f08d-14f6dc1e7807"
      },
      "outputs": [
        {
          "name": "stdout",
          "output_type": "stream",
          "text": [
            "Number of 0s in y_train: 2543\n",
            "Number of 1s in y_train: 2495\n",
            "Number of 0s in y_val: 606\n",
            "Number of 1s in y_val: 654\n"
          ]
        }
      ],
      "source": [
        "# For X_train\n",
        "num_zeros_train = np.count_nonzero(y_train == 0)\n",
        "num_ones_train = np.count_nonzero(y_train == 1)\n",
        "\n",
        "# For X_val\n",
        "num_zeros_val = np.count_nonzero(y_val == 0)\n",
        "num_ones_val = np.count_nonzero(y_val == 1)\n",
        "\n",
        "print(\"Number of 0s in y_train:\", num_zeros_train)\n",
        "print(\"Number of 1s in y_train:\", num_ones_train)\n",
        "print(\"Number of 0s in y_val:\", num_zeros_val)\n",
        "print(\"Number of 1s in y_val:\", num_ones_val)"
      ]
    },
    {
      "cell_type": "code",
      "execution_count": null,
      "metadata": {
        "colab": {
          "base_uri": "https://localhost:8080/"
        },
        "id": "xr8mQPL1A3wO",
        "outputId": "acac82f4-4ca4-4b2f-8849-c6e1b7e88db7"
      },
      "outputs": [
        {
          "name": "stderr",
          "output_type": "stream",
          "text": [
            "WARNING:gensim.models.word2vec:Each 'sentences' item should be a list of words (usually unicode strings). First item here is instead plain <class 'str'>.\n"
          ]
        }
      ],
      "source": [
        "# Create and train a Word2Vec model on your data\n",
        "from gensim.models import Word2Vec\n",
        "\n",
        "embedding_dim = 100\n",
        "Gurus_word2vec_model = Word2Vec(df['cleaned_text'], vector_size=embedding_dim, window=5, min_count=1, sg=0, workers=4)"
      ]
    },
    {
      "cell_type": "code",
      "execution_count": null,
      "metadata": {
        "id": "_cclO3SFB0kl"
      },
      "outputs": [],
      "source": [
        "# Create an embedding matrix\n",
        "embedding_matrix = np.zeros((vocab_size + 1, embedding_dim))\n",
        "for word, i in word_index.items():\n",
        "    if word in Gurus_word2vec_model.wv:\n",
        "        embedding_matrix[i] = Gurus_word2vec_model.wv[word]"
      ]
    },
    {
      "cell_type": "code",
      "execution_count": null,
      "metadata": {
        "id": "nZHE3g_Xc3uT"
      },
      "outputs": [],
      "source": [
        "word_embeddings = {}\n",
        "for word in Gurus_word2vec_model.wv.index_to_key:\n",
        "    word_embeddings[word] = Gurus_word2vec_model.wv[word]"
      ]
    },
    {
      "cell_type": "code",
      "execution_count": null,
      "metadata": {
        "id": "JAERjaqufnkB"
      },
      "outputs": [],
      "source": [
        "def f1_score_metric(y_val, y_pred):\n",
        "    y_val = tf.cast(y_val, tf.float32)  # Ensure y_true has the same data type as y_pred\n",
        "    true_positives = tf.keras.backend.sum(tf.keras.backend.round(tf.keras.backend.clip(y_val * y_pred, 0, 1)))\n",
        "    predicted_positives = tf.keras.backend.sum(tf.keras.backend.round(tf.keras.backend.clip(y_pred, 0, 1)))\n",
        "    possible_positives = tf.keras.backend.sum(tf.keras.backend.round(tf.keras.backend.clip(y_val, 0, 1)))\n",
        "\n",
        "    precision = true_positives / (predicted_positives + tf.keras.backend.epsilon())\n",
        "    recall = true_positives / (possible_positives + tf.keras.backend.epsilon())\n",
        "\n",
        "    f1_score = 2 * (precision * recall) / (precision + recall + tf.keras.backend.epsilon())\n",
        "    return f1_score"
      ]
    },
    {
      "cell_type": "code",
      "execution_count": null,
      "metadata": {
        "id": "SvxLQEVfCKaQ"
      },
      "outputs": [],
      "source": [
        "def buildmodel(hp):\n",
        "    model = Sequential()\n",
        "    model.add(Embedding(input_dim=vocab_size + 1, output_dim=embedding_dim, weights=[embedding_matrix], input_length=max_length, trainable=False))\n",
        "\n",
        "    # Sample the number of LSTM units from the hyperparameter search space\n",
        "    lstm_units = hp.Int('lstm_units', min_value=64, max_value=256, step=32)\n",
        "    model.add(LSTM(units=lstm_units))\n",
        "\n",
        "    # Sample the number of units for the Dense layer\n",
        "    dense_units = hp.Int('dense_units', min_value=64, max_value=256, step=32)\n",
        "    model.add(Dense(units=dense_units, activation='relu'))\n",
        "\n",
        "    # Sample the dropout rate from the hyperparameter search space\n",
        "    dropout_rate = hp.Float('dropout_rate', min_value=0.2, max_value=0.5, step=0.1)\n",
        "    model.add(Dropout(rate=dropout_rate))\n",
        "\n",
        "    model.add(Dense(units=1, activation='sigmoid'))\n",
        "\n",
        "    # Set the optimizer with the specified learning rate\n",
        "    optimizer = Adam(learning_rate=0.001)\n",
        "\n",
        "    # Compile the model\n",
        "    model.compile(loss='binary_crossentropy', optimizer=optimizer, metrics=[f1_score_metric])\n",
        "    return model\n",
        "\n",
        "\n"
      ]
    },
    {
      "cell_type": "code",
      "execution_count": null,
      "metadata": {
        "colab": {
          "base_uri": "https://localhost:8080/"
        },
        "id": "Hl88xe-OOhSR",
        "outputId": "9e4438eb-9fbc-49b8-c689-7a0d27000b3c"
      },
      "outputs": [
        {
          "name": "stdout",
          "output_type": "stream",
          "text": [
            "Collecting keras-tuner\n",
            "  Downloading keras_tuner-1.4.5-py3-none-any.whl (129 kB)\n",
            "\u001b[?25l     \u001b[90m━━━━━━━━━━━━━━━━━━━━━━━━━━━━━━━━━━━━━━━━\u001b[0m \u001b[32m0.0/129.5 kB\u001b[0m \u001b[31m?\u001b[0m eta \u001b[36m-:--:--\u001b[0m\r\u001b[2K     \u001b[90m━━━━━━━━━━━━━━━━━━━━━━━━━━━━━━━━━━━━━━━━\u001b[0m \u001b[32m129.5/129.5 kB\u001b[0m \u001b[31m4.7 MB/s\u001b[0m eta \u001b[36m0:00:00\u001b[0m\n",
            "\u001b[?25hCollecting keras-core (from keras-tuner)\n",
            "  Downloading keras_core-0.1.7-py3-none-any.whl (950 kB)\n",
            "\u001b[2K     \u001b[90m━━━━━━━━━━━━━━━━━━━━━━━━━━━━━━━━━━━━━━━━\u001b[0m \u001b[32m950.8/950.8 kB\u001b[0m \u001b[31m14.6 MB/s\u001b[0m eta \u001b[36m0:00:00\u001b[0m\n",
            "\u001b[?25hRequirement already satisfied: packaging in /usr/local/lib/python3.10/dist-packages (from keras-tuner) (23.2)\n",
            "Requirement already satisfied: requests in /usr/local/lib/python3.10/dist-packages (from keras-tuner) (2.31.0)\n",
            "Collecting kt-legacy (from keras-tuner)\n",
            "  Downloading kt_legacy-1.0.5-py3-none-any.whl (9.6 kB)\n",
            "Requirement already satisfied: absl-py in /usr/local/lib/python3.10/dist-packages (from keras-core->keras-tuner) (1.4.0)\n",
            "Requirement already satisfied: numpy in /usr/local/lib/python3.10/dist-packages (from keras-core->keras-tuner) (1.23.5)\n",
            "Requirement already satisfied: rich in /usr/local/lib/python3.10/dist-packages (from keras-core->keras-tuner) (13.6.0)\n",
            "Collecting namex (from keras-core->keras-tuner)\n",
            "  Downloading namex-0.0.7-py3-none-any.whl (5.8 kB)\n",
            "Requirement already satisfied: h5py in /usr/local/lib/python3.10/dist-packages (from keras-core->keras-tuner) (3.9.0)\n",
            "Requirement already satisfied: dm-tree in /usr/local/lib/python3.10/dist-packages (from keras-core->keras-tuner) (0.1.8)\n",
            "Requirement already satisfied: charset-normalizer<4,>=2 in /usr/local/lib/python3.10/dist-packages (from requests->keras-tuner) (3.3.1)\n",
            "Requirement already satisfied: idna<4,>=2.5 in /usr/local/lib/python3.10/dist-packages (from requests->keras-tuner) (3.4)\n",
            "Requirement already satisfied: urllib3<3,>=1.21.1 in /usr/local/lib/python3.10/dist-packages (from requests->keras-tuner) (2.0.7)\n",
            "Requirement already satisfied: certifi>=2017.4.17 in /usr/local/lib/python3.10/dist-packages (from requests->keras-tuner) (2023.7.22)\n",
            "Requirement already satisfied: markdown-it-py>=2.2.0 in /usr/local/lib/python3.10/dist-packages (from rich->keras-core->keras-tuner) (3.0.0)\n",
            "Requirement already satisfied: pygments<3.0.0,>=2.13.0 in /usr/local/lib/python3.10/dist-packages (from rich->keras-core->keras-tuner) (2.16.1)\n",
            "Requirement already satisfied: mdurl~=0.1 in /usr/local/lib/python3.10/dist-packages (from markdown-it-py>=2.2.0->rich->keras-core->keras-tuner) (0.1.2)\n",
            "Installing collected packages: namex, kt-legacy, keras-core, keras-tuner\n",
            "Successfully installed keras-core-0.1.7 keras-tuner-1.4.5 kt-legacy-1.0.5 namex-0.0.7\n"
          ]
        }
      ],
      "source": [
        "pip install keras-tuner"
      ]
    },
    {
      "cell_type": "code",
      "execution_count": null,
      "metadata": {
        "colab": {
          "base_uri": "https://localhost:8080/"
        },
        "id": "9CI-L2rvOYLZ",
        "outputId": "8326743e-d1cf-4654-e5c7-60098ea215ae"
      },
      "outputs": [
        {
          "name": "stdout",
          "output_type": "stream",
          "text": [
            "Using TensorFlow backend\n"
          ]
        },
        {
          "name": "stderr",
          "output_type": "stream",
          "text": [
            "<ipython-input-26-5fd8096cdee5>:1: DeprecationWarning: `import kerastuner` is deprecated, please use `import keras_tuner`.\n",
            "  import kerastuner as kt\n"
          ]
        }
      ],
      "source": [
        "import kerastuner as kt"
      ]
    },
    {
      "cell_type": "code",
      "execution_count": null,
      "metadata": {
        "id": "pfkWf1ep60oy"
      },
      "outputs": [],
      "source": [
        "# Create the Keras Tuner instance\n",
        "tuner = kt.RandomSearch(\n",
        "    buildmodel,\n",
        "    objective=kt.Objective('f1_score_metric', direction='max'),\n",
        "    max_trials=10,\n",
        "    directory='my_tuner_directory',\n",
        "    project_name='my_text_classification_tuner'\n",
        ")"
      ]
    },
    {
      "cell_type": "code",
      "execution_count": null,
      "metadata": {
        "colab": {
          "base_uri": "https://localhost:8080/"
        },
        "id": "0sWbv-K6b95a",
        "outputId": "6f9ca41c-f0bf-4c4b-89d6-0067f894a11e"
      },
      "outputs": [
        {
          "name": "stdout",
          "output_type": "stream",
          "text": [
            "Search space summary\n",
            "Default search space size: 3\n",
            "lstm_units (Int)\n",
            "{'default': None, 'conditions': [], 'min_value': 64, 'max_value': 256, 'step': 32, 'sampling': 'linear'}\n",
            "dense_units (Int)\n",
            "{'default': None, 'conditions': [], 'min_value': 64, 'max_value': 256, 'step': 32, 'sampling': 'linear'}\n",
            "dropout_rate (Float)\n",
            "{'default': 0.2, 'conditions': [], 'min_value': 0.2, 'max_value': 0.5, 'step': 0.1, 'sampling': 'linear'}\n"
          ]
        }
      ],
      "source": [
        "# Define the search space for hyperparameters\n",
        "tuner.search_space_summary()\n"
      ]
    },
    {
      "cell_type": "code",
      "execution_count": null,
      "metadata": {
        "id": "0OG4rm7fcDqd"
      },
      "outputs": [],
      "source": [
        "# Perform hyperparameter tuning\n",
        "tuner.search(X_train, y_train, validation_data=(X_val, y_val), epochs=10, batch_size=200, verbose=0)"
      ]
    },
    {
      "cell_type": "markdown",
      "metadata": {
        "id": "1EXK5yVy-wZi"
      },
      "source": [
        "Final Model"
      ]
    },
    {
      "cell_type": "code",
      "execution_count": null,
      "metadata": {
        "id": "zk7pBHFjc7VS"
      },
      "outputs": [],
      "source": [
        "# Get the best hyperparameters\n",
        "best_hps = tuner.get_best_hyperparameters(num_trials=1)[0]"
      ]
    },
    {
      "cell_type": "code",
      "execution_count": null,
      "metadata": {
        "colab": {
          "base_uri": "https://localhost:8080/"
        },
        "id": "3gD1noj7SCYf",
        "outputId": "dab93c6a-a4ce-4fb8-efe8-10a497ba9a02"
      },
      "outputs": [
        {
          "name": "stdout",
          "output_type": "stream",
          "text": [
            "Best Hyperparameters - Trial 1:\n",
            "lstm_units: 64\n",
            "dense_units: 224\n",
            "dropout_rate: 0.30000000000000004\n",
            "\n",
            "\n",
            "Best Hyperparameters - Trial 2:\n",
            "lstm_units: 256\n",
            "dense_units: 224\n",
            "dropout_rate: 0.2\n",
            "\n",
            "\n",
            "Best Hyperparameters - Trial 3:\n",
            "lstm_units: 128\n",
            "dense_units: 64\n",
            "dropout_rate: 0.4\n",
            "\n",
            "\n",
            "Best Hyperparameters - Trial 4:\n",
            "lstm_units: 256\n",
            "dense_units: 192\n",
            "dropout_rate: 0.4\n",
            "\n",
            "\n",
            "Best Hyperparameters - Trial 5:\n",
            "lstm_units: 96\n",
            "dense_units: 224\n",
            "dropout_rate: 0.2\n",
            "\n",
            "\n",
            "Best Hyperparameters - Trial 6:\n",
            "lstm_units: 192\n",
            "dense_units: 256\n",
            "dropout_rate: 0.4\n",
            "\n",
            "\n",
            "Best Hyperparameters - Trial 7:\n",
            "lstm_units: 224\n",
            "dense_units: 64\n",
            "dropout_rate: 0.4\n",
            "\n",
            "\n",
            "Best Hyperparameters - Trial 8:\n",
            "lstm_units: 64\n",
            "dense_units: 96\n",
            "dropout_rate: 0.4\n",
            "\n",
            "\n",
            "Best Hyperparameters - Trial 9:\n",
            "lstm_units: 192\n",
            "dense_units: 128\n",
            "dropout_rate: 0.4\n",
            "\n",
            "\n",
            "Best Hyperparameters - Trial 10:\n",
            "lstm_units: 128\n",
            "dense_units: 256\n",
            "dropout_rate: 0.30000000000000004\n",
            "\n",
            "\n"
          ]
        }
      ],
      "source": [
        "# Get all best hyperparameters and their values\n",
        "best_hyperparameters = []\n",
        "for trial in tuner.oracle.get_best_trials(10):  # Replace '10' with the number of best trials you want to retrieve\n",
        "    hyperparameters = trial.hyperparameters.values\n",
        "    best_hyperparameters.append(hyperparameters)\n",
        "\n",
        "# Print the list of best hyperparameters and their values\n",
        "for idx, hyperparameters in enumerate(best_hyperparameters, start=1):\n",
        "    print(f\"Best Hyperparameters - Trial {idx}:\")\n",
        "    for param_name, param_value in hyperparameters.items():\n",
        "        print(f\"{param_name}: {param_value}\")\n",
        "    print(\"\\n\")\n"
      ]
    },
    {
      "cell_type": "code",
      "execution_count": null,
      "metadata": {
        "colab": {
          "base_uri": "https://localhost:8080/"
        },
        "id": "nwmMxCiPc8hR",
        "outputId": "cc61b786-8d7f-4cf9-8daf-14d5554d7d04"
      },
      "outputs": [
        {
          "name": "stdout",
          "output_type": "stream",
          "text": [
            "Best Hyperparameters:\n",
            "<keras_tuner.src.engine.hyperparameters.hyperparameters.HyperParameters object at 0x7d5f362f4d60>\n"
          ]
        }
      ],
      "source": [
        "# Print the best hyperparameters\n",
        "print(\"Best Hyperparameters:\")\n",
        "print(best_hps)"
      ]
    },
    {
      "cell_type": "code",
      "execution_count": null,
      "metadata": {
        "id": "zEQhNFdxdP6T"
      },
      "outputs": [],
      "source": [
        "# Build the final model with the best hyperparameters\n",
        "final_model = tuner.hypermodel.build(best_hps)"
      ]
    },
    {
      "cell_type": "code",
      "execution_count": null,
      "metadata": {
        "colab": {
          "base_uri": "https://localhost:8080/"
        },
        "id": "51ZctOY6B6Ft",
        "outputId": "b70e3d31-73b9-4e56-9f8c-e98800f08c84"
      },
      "outputs": [
        {
          "name": "stdout",
          "output_type": "stream",
          "text": [
            "Epoch 1/100\n",
            "26/26 [==============================] - 3s 36ms/step - loss: 0.6891 - f1_score_metric: 0.3305 - val_loss: 0.6942 - val_f1_score_metric: 0.2567\n",
            "Epoch 2/100\n",
            "26/26 [==============================] - 1s 20ms/step - loss: 0.6842 - f1_score_metric: 0.2843 - val_loss: 0.6927 - val_f1_score_metric: 0.2512\n",
            "Epoch 3/100\n",
            "26/26 [==============================] - 1s 20ms/step - loss: 0.6831 - f1_score_metric: 0.2764 - val_loss: 0.6895 - val_f1_score_metric: 0.2567\n",
            "Epoch 4/100\n",
            "26/26 [==============================] - 1s 20ms/step - loss: 0.6832 - f1_score_metric: 0.2828 - val_loss: 0.6887 - val_f1_score_metric: 0.2515\n",
            "Epoch 5/100\n",
            "26/26 [==============================] - 1s 20ms/step - loss: 0.6822 - f1_score_metric: 0.2785 - val_loss: 0.6892 - val_f1_score_metric: 0.2532\n",
            "Epoch 6/100\n",
            "26/26 [==============================] - 1s 20ms/step - loss: 0.6822 - f1_score_metric: 0.3000 - val_loss: 0.6884 - val_f1_score_metric: 0.2438\n",
            "Epoch 7/100\n",
            "26/26 [==============================] - 1s 23ms/step - loss: 0.6825 - f1_score_metric: 0.2797 - val_loss: 0.6877 - val_f1_score_metric: 0.2518\n",
            "Epoch 8/100\n",
            "26/26 [==============================] - 1s 23ms/step - loss: 0.6829 - f1_score_metric: 0.2843 - val_loss: 0.6884 - val_f1_score_metric: 0.2584\n",
            "Epoch 9/100\n",
            "26/26 [==============================] - 1s 20ms/step - loss: 0.6828 - f1_score_metric: 0.2879 - val_loss: 0.6868 - val_f1_score_metric: 0.2517\n",
            "Epoch 10/100\n",
            "26/26 [==============================] - 1s 21ms/step - loss: 0.6814 - f1_score_metric: 0.2869 - val_loss: 0.6857 - val_f1_score_metric: 0.2505\n",
            "Epoch 11/100\n",
            "26/26 [==============================] - 1s 21ms/step - loss: 0.6816 - f1_score_metric: 0.2827 - val_loss: 0.6874 - val_f1_score_metric: 0.2514\n",
            "Epoch 12/100\n",
            "26/26 [==============================] - 1s 20ms/step - loss: 0.6816 - f1_score_metric: 0.2927 - val_loss: 0.6881 - val_f1_score_metric: 0.2527\n",
            "Epoch 13/100\n",
            "26/26 [==============================] - 1s 20ms/step - loss: 0.6825 - f1_score_metric: 0.2949 - val_loss: 0.6847 - val_f1_score_metric: 0.2550\n",
            "Epoch 14/100\n",
            "26/26 [==============================] - 1s 20ms/step - loss: 0.6823 - f1_score_metric: 0.3314 - val_loss: 0.6870 - val_f1_score_metric: 0.2542\n",
            "Epoch 15/100\n",
            "26/26 [==============================] - 1s 21ms/step - loss: 0.6813 - f1_score_metric: 0.2875 - val_loss: 0.6876 - val_f1_score_metric: 0.2584\n",
            "Epoch 16/100\n",
            "26/26 [==============================] - 1s 21ms/step - loss: 0.6812 - f1_score_metric: 0.2921 - val_loss: 0.6869 - val_f1_score_metric: 0.2542\n",
            "Epoch 17/100\n",
            "26/26 [==============================] - 1s 22ms/step - loss: 0.6811 - f1_score_metric: 0.2920 - val_loss: 0.6872 - val_f1_score_metric: 0.2529\n",
            "Epoch 18/100\n",
            "26/26 [==============================] - 1s 26ms/step - loss: 0.6801 - f1_score_metric: 0.2901 - val_loss: 0.6871 - val_f1_score_metric: 0.2556\n",
            "Epoch 19/100\n",
            "26/26 [==============================] - 1s 21ms/step - loss: 0.6816 - f1_score_metric: 0.2952 - val_loss: 0.6876 - val_f1_score_metric: 0.2564\n",
            "Epoch 20/100\n",
            "26/26 [==============================] - 0s 19ms/step - loss: 0.6797 - f1_score_metric: 0.2946 - val_loss: 0.6876 - val_f1_score_metric: 0.2525\n",
            "Epoch 21/100\n",
            "26/26 [==============================] - 1s 20ms/step - loss: 0.6796 - f1_score_metric: 0.2972 - val_loss: 0.6872 - val_f1_score_metric: 0.2562\n",
            "Epoch 22/100\n",
            "26/26 [==============================] - 1s 20ms/step - loss: 0.6804 - f1_score_metric: 0.2990 - val_loss: 0.6883 - val_f1_score_metric: 0.2588\n",
            "Epoch 23/100\n",
            "26/26 [==============================] - 0s 19ms/step - loss: 0.6814 - f1_score_metric: 0.3304 - val_loss: 0.6879 - val_f1_score_metric: 0.2525\n",
            "Epoch 24/100\n",
            "26/26 [==============================] - 0s 19ms/step - loss: 0.6801 - f1_score_metric: 0.3125 - val_loss: 0.6871 - val_f1_score_metric: 0.2610\n",
            "Epoch 25/100\n",
            "26/26 [==============================] - 1s 20ms/step - loss: 0.6809 - f1_score_metric: 0.3087 - val_loss: 0.6875 - val_f1_score_metric: 0.2511\n",
            "Epoch 26/100\n",
            "26/26 [==============================] - 1s 20ms/step - loss: 0.6801 - f1_score_metric: 0.2931 - val_loss: 0.6889 - val_f1_score_metric: 0.2559\n",
            "Epoch 27/100\n",
            "26/26 [==============================] - 1s 20ms/step - loss: 0.6793 - f1_score_metric: 0.3028 - val_loss: 0.6890 - val_f1_score_metric: 0.2573\n",
            "Epoch 28/100\n",
            "26/26 [==============================] - 1s 23ms/step - loss: 0.6792 - f1_score_metric: 0.2977 - val_loss: 0.6892 - val_f1_score_metric: 0.2562\n",
            "Epoch 29/100\n",
            "26/26 [==============================] - 1s 21ms/step - loss: 0.6784 - f1_score_metric: 0.2988 - val_loss: 0.6886 - val_f1_score_metric: 0.2581\n",
            "Epoch 30/100\n",
            "26/26 [==============================] - 1s 21ms/step - loss: 0.6795 - f1_score_metric: 0.2959 - val_loss: 0.6893 - val_f1_score_metric: 0.2529\n",
            "Epoch 31/100\n",
            "26/26 [==============================] - 1s 20ms/step - loss: 0.6804 - f1_score_metric: 0.3009 - val_loss: 0.6866 - val_f1_score_metric: 0.2576\n",
            "Epoch 32/100\n",
            "26/26 [==============================] - 1s 20ms/step - loss: 0.6797 - f1_score_metric: 0.3069 - val_loss: 0.6887 - val_f1_score_metric: 0.2529\n",
            "Epoch 33/100\n",
            "26/26 [==============================] - 1s 20ms/step - loss: 0.6790 - f1_score_metric: 0.2937 - val_loss: 0.6909 - val_f1_score_metric: 0.2548\n",
            "Epoch 34/100\n",
            "26/26 [==============================] - 0s 19ms/step - loss: 0.6795 - f1_score_metric: 0.3032 - val_loss: 0.6893 - val_f1_score_metric: 0.2559\n",
            "Epoch 35/100\n",
            "26/26 [==============================] - 1s 20ms/step - loss: 0.6786 - f1_score_metric: 0.3081 - val_loss: 0.6898 - val_f1_score_metric: 0.2538\n",
            "Epoch 36/100\n",
            "26/26 [==============================] - 1s 20ms/step - loss: 0.6788 - f1_score_metric: 0.3052 - val_loss: 0.6914 - val_f1_score_metric: 0.2562\n",
            "Epoch 37/100\n",
            "26/26 [==============================] - 1s 21ms/step - loss: 0.6785 - f1_score_metric: 0.3064 - val_loss: 0.6895 - val_f1_score_metric: 0.2546\n",
            "Epoch 38/100\n",
            "26/26 [==============================] - 1s 20ms/step - loss: 0.6790 - f1_score_metric: 0.2991 - val_loss: 0.6893 - val_f1_score_metric: 0.2556\n",
            "Epoch 39/100\n",
            "26/26 [==============================] - 0s 19ms/step - loss: 0.6787 - f1_score_metric: 0.3003 - val_loss: 0.6862 - val_f1_score_metric: 0.2576\n",
            "Epoch 40/100\n",
            "26/26 [==============================] - 0s 19ms/step - loss: 0.6793 - f1_score_metric: 0.3811 - val_loss: 0.6906 - val_f1_score_metric: 0.2529\n",
            "Epoch 41/100\n",
            "26/26 [==============================] - 1s 20ms/step - loss: 0.6788 - f1_score_metric: 0.3008 - val_loss: 0.6900 - val_f1_score_metric: 0.2548\n",
            "Epoch 42/100\n",
            "26/26 [==============================] - 1s 21ms/step - loss: 0.6788 - f1_score_metric: 0.3050 - val_loss: 0.6903 - val_f1_score_metric: 0.2543\n",
            "Epoch 43/100\n",
            "26/26 [==============================] - 1s 20ms/step - loss: 0.6775 - f1_score_metric: 0.3074 - val_loss: 0.6931 - val_f1_score_metric: 0.2529\n",
            "Epoch 44/100\n",
            "26/26 [==============================] - 0s 19ms/step - loss: 0.6776 - f1_score_metric: 0.3052 - val_loss: 0.6889 - val_f1_score_metric: 0.2577\n",
            "Epoch 45/100\n",
            "26/26 [==============================] - 1s 20ms/step - loss: 0.6776 - f1_score_metric: 0.3132 - val_loss: 0.6904 - val_f1_score_metric: 0.2560\n",
            "Epoch 46/100\n",
            "26/26 [==============================] - 1s 20ms/step - loss: 0.6789 - f1_score_metric: 0.3020 - val_loss: 0.6915 - val_f1_score_metric: 0.2541\n",
            "Epoch 47/100\n",
            "26/26 [==============================] - 1s 20ms/step - loss: 0.6783 - f1_score_metric: 0.3048 - val_loss: 0.6927 - val_f1_score_metric: 0.2543\n",
            "Epoch 48/100\n",
            "26/26 [==============================] - 1s 21ms/step - loss: 0.6776 - f1_score_metric: 0.3076 - val_loss: 0.6904 - val_f1_score_metric: 0.2546\n",
            "Epoch 49/100\n",
            "26/26 [==============================] - 1s 21ms/step - loss: 0.6768 - f1_score_metric: 0.3054 - val_loss: 0.6958 - val_f1_score_metric: 0.2546\n",
            "Epoch 50/100\n",
            "26/26 [==============================] - 1s 20ms/step - loss: 0.6778 - f1_score_metric: 0.3004 - val_loss: 0.6912 - val_f1_score_metric: 0.2672\n",
            "Epoch 51/100\n",
            "26/26 [==============================] - 1s 21ms/step - loss: 0.6781 - f1_score_metric: 0.3025 - val_loss: 0.6887 - val_f1_score_metric: 0.2548\n",
            "Epoch 52/100\n",
            "26/26 [==============================] - 0s 19ms/step - loss: 0.6776 - f1_score_metric: 0.3328 - val_loss: 0.6929 - val_f1_score_metric: 0.2529\n",
            "Epoch 53/100\n",
            "26/26 [==============================] - 0s 19ms/step - loss: 0.6773 - f1_score_metric: 0.3084 - val_loss: 0.6879 - val_f1_score_metric: 0.2616\n",
            "Epoch 54/100\n",
            "26/26 [==============================] - 0s 19ms/step - loss: 0.6770 - f1_score_metric: 0.3060 - val_loss: 0.6956 - val_f1_score_metric: 0.2548\n",
            "Epoch 55/100\n",
            "26/26 [==============================] - 1s 20ms/step - loss: 0.6777 - f1_score_metric: 0.3055 - val_loss: 0.6905 - val_f1_score_metric: 0.2565\n",
            "Epoch 56/100\n",
            "26/26 [==============================] - 1s 21ms/step - loss: 0.6770 - f1_score_metric: 0.3107 - val_loss: 0.6925 - val_f1_score_metric: 0.2524\n",
            "Epoch 57/100\n",
            "26/26 [==============================] - 1s 20ms/step - loss: 0.6770 - f1_score_metric: 0.2938 - val_loss: 0.6884 - val_f1_score_metric: 0.2562\n",
            "Epoch 58/100\n",
            "26/26 [==============================] - 1s 20ms/step - loss: 0.6771 - f1_score_metric: 0.3101 - val_loss: 0.6921 - val_f1_score_metric: 0.2548\n",
            "Epoch 59/100\n",
            "26/26 [==============================] - 1s 20ms/step - loss: 0.6769 - f1_score_metric: 0.3081 - val_loss: 0.6916 - val_f1_score_metric: 0.2630\n",
            "Epoch 60/100\n",
            "26/26 [==============================] - 1s 20ms/step - loss: 0.6778 - f1_score_metric: 0.2985 - val_loss: 0.6953 - val_f1_score_metric: 0.2548\n",
            "Epoch 61/100\n",
            "26/26 [==============================] - 1s 21ms/step - loss: 0.6770 - f1_score_metric: 0.3017 - val_loss: 0.6883 - val_f1_score_metric: 0.2633\n",
            "Epoch 62/100\n",
            "26/26 [==============================] - 1s 20ms/step - loss: 0.6768 - f1_score_metric: 0.3056 - val_loss: 0.6928 - val_f1_score_metric: 0.2546\n",
            "Epoch 63/100\n",
            "26/26 [==============================] - 1s 21ms/step - loss: 0.6754 - f1_score_metric: 0.3010 - val_loss: 0.6950 - val_f1_score_metric: 0.2545\n",
            "Epoch 64/100\n",
            "26/26 [==============================] - 1s 21ms/step - loss: 0.6764 - f1_score_metric: 0.3088 - val_loss: 0.6955 - val_f1_score_metric: 0.2611\n",
            "Epoch 65/100\n",
            "26/26 [==============================] - 1s 21ms/step - loss: 0.6765 - f1_score_metric: 0.3085 - val_loss: 0.6902 - val_f1_score_metric: 0.2557\n",
            "Epoch 66/100\n",
            "26/26 [==============================] - 1s 22ms/step - loss: 0.6769 - f1_score_metric: 0.3036 - val_loss: 0.6950 - val_f1_score_metric: 0.2624\n",
            "Epoch 67/100\n",
            "26/26 [==============================] - 1s 22ms/step - loss: 0.6773 - f1_score_metric: 0.3066 - val_loss: 0.6927 - val_f1_score_metric: 0.2548\n",
            "Epoch 68/100\n",
            "26/26 [==============================] - 1s 20ms/step - loss: 0.6758 - f1_score_metric: 0.3022 - val_loss: 0.6991 - val_f1_score_metric: 0.2596\n",
            "Epoch 69/100\n",
            "26/26 [==============================] - 1s 20ms/step - loss: 0.6762 - f1_score_metric: 0.3102 - val_loss: 0.6898 - val_f1_score_metric: 0.2568\n",
            "Epoch 70/100\n",
            "26/26 [==============================] - 1s 20ms/step - loss: 0.6757 - f1_score_metric: 0.3031 - val_loss: 0.6956 - val_f1_score_metric: 0.2621\n",
            "Epoch 71/100\n",
            "26/26 [==============================] - 1s 21ms/step - loss: 0.6756 - f1_score_metric: 0.3041 - val_loss: 0.6930 - val_f1_score_metric: 0.2564\n",
            "Epoch 72/100\n",
            "26/26 [==============================] - 1s 21ms/step - loss: 0.6750 - f1_score_metric: 0.3032 - val_loss: 0.6953 - val_f1_score_metric: 0.2568\n",
            "Epoch 73/100\n",
            "26/26 [==============================] - 1s 21ms/step - loss: 0.6753 - f1_score_metric: 0.3008 - val_loss: 0.6958 - val_f1_score_metric: 0.2568\n",
            "Epoch 74/100\n",
            "26/26 [==============================] - 1s 22ms/step - loss: 0.6767 - f1_score_metric: 0.3076 - val_loss: 0.6897 - val_f1_score_metric: 0.2611\n",
            "Epoch 75/100\n",
            "26/26 [==============================] - 1s 22ms/step - loss: 0.6742 - f1_score_metric: 0.3076 - val_loss: 0.6992 - val_f1_score_metric: 0.2549\n",
            "Epoch 76/100\n",
            "26/26 [==============================] - 1s 21ms/step - loss: 0.6759 - f1_score_metric: 0.3106 - val_loss: 0.6915 - val_f1_score_metric: 0.2564\n",
            "Epoch 77/100\n",
            "26/26 [==============================] - 1s 21ms/step - loss: 0.6751 - f1_score_metric: 0.3114 - val_loss: 0.6928 - val_f1_score_metric: 0.2643\n",
            "Epoch 78/100\n",
            "26/26 [==============================] - 1s 20ms/step - loss: 0.6762 - f1_score_metric: 0.3057 - val_loss: 0.6952 - val_f1_score_metric: 0.2638\n",
            "Epoch 79/100\n",
            "26/26 [==============================] - 1s 22ms/step - loss: 0.6745 - f1_score_metric: 0.3084 - val_loss: 0.6953 - val_f1_score_metric: 0.2643\n",
            "Epoch 80/100\n",
            "26/26 [==============================] - 1s 21ms/step - loss: 0.6740 - f1_score_metric: 0.3091 - val_loss: 0.6958 - val_f1_score_metric: 0.2638\n",
            "Epoch 81/100\n",
            "26/26 [==============================] - 1s 20ms/step - loss: 0.6750 - f1_score_metric: 0.3099 - val_loss: 0.6928 - val_f1_score_metric: 0.2629\n",
            "Epoch 82/100\n",
            "26/26 [==============================] - 1s 20ms/step - loss: 0.6744 - f1_score_metric: 0.3057 - val_loss: 0.7008 - val_f1_score_metric: 0.2563\n",
            "Epoch 83/100\n",
            "26/26 [==============================] - 1s 20ms/step - loss: 0.6746 - f1_score_metric: 0.3061 - val_loss: 0.6954 - val_f1_score_metric: 0.2548\n",
            "Epoch 84/100\n",
            "26/26 [==============================] - 1s 23ms/step - loss: 0.6746 - f1_score_metric: 0.3081 - val_loss: 0.6921 - val_f1_score_metric: 0.2630\n",
            "Epoch 85/100\n",
            "26/26 [==============================] - 1s 20ms/step - loss: 0.6740 - f1_score_metric: 0.3080 - val_loss: 0.6961 - val_f1_score_metric: 0.2620\n",
            "Epoch 86/100\n",
            "26/26 [==============================] - 1s 21ms/step - loss: 0.6744 - f1_score_metric: 0.3072 - val_loss: 0.7003 - val_f1_score_metric: 0.2582\n",
            "Epoch 87/100\n",
            "26/26 [==============================] - 1s 20ms/step - loss: 0.6733 - f1_score_metric: 0.3097 - val_loss: 0.6963 - val_f1_score_metric: 0.2545\n",
            "Epoch 88/100\n",
            "26/26 [==============================] - 1s 20ms/step - loss: 0.6747 - f1_score_metric: 0.3059 - val_loss: 0.6961 - val_f1_score_metric: 0.2561\n",
            "Epoch 89/100\n",
            "26/26 [==============================] - 1s 22ms/step - loss: 0.6728 - f1_score_metric: 0.3023 - val_loss: 0.7033 - val_f1_score_metric: 0.2545\n",
            "Epoch 90/100\n",
            "26/26 [==============================] - 1s 20ms/step - loss: 0.6731 - f1_score_metric: 0.3040 - val_loss: 0.6979 - val_f1_score_metric: 0.2561\n",
            "Epoch 91/100\n",
            "26/26 [==============================] - 1s 20ms/step - loss: 0.6730 - f1_score_metric: 0.3140 - val_loss: 0.6987 - val_f1_score_metric: 0.2620\n",
            "Epoch 92/100\n",
            "26/26 [==============================] - 1s 23ms/step - loss: 0.6734 - f1_score_metric: 0.3030 - val_loss: 0.7030 - val_f1_score_metric: 0.2618\n",
            "Epoch 93/100\n",
            "26/26 [==============================] - 1s 22ms/step - loss: 0.6738 - f1_score_metric: 0.3124 - val_loss: 0.7026 - val_f1_score_metric: 0.2621\n",
            "Epoch 94/100\n",
            "26/26 [==============================] - 1s 22ms/step - loss: 0.6726 - f1_score_metric: 0.3106 - val_loss: 0.6997 - val_f1_score_metric: 0.2621\n",
            "Epoch 95/100\n",
            "26/26 [==============================] - 1s 22ms/step - loss: 0.6734 - f1_score_metric: 0.3136 - val_loss: 0.7005 - val_f1_score_metric: 0.2545\n",
            "Epoch 96/100\n",
            "26/26 [==============================] - 1s 21ms/step - loss: 0.6732 - f1_score_metric: 0.3043 - val_loss: 0.6987 - val_f1_score_metric: 0.2579\n",
            "Epoch 97/100\n",
            "26/26 [==============================] - 1s 21ms/step - loss: 0.6738 - f1_score_metric: 0.3135 - val_loss: 0.7031 - val_f1_score_metric: 0.2547\n",
            "Epoch 98/100\n",
            "26/26 [==============================] - 1s 21ms/step - loss: 0.6731 - f1_score_metric: 0.3077 - val_loss: 0.7011 - val_f1_score_metric: 0.2609\n",
            "Epoch 99/100\n",
            "26/26 [==============================] - 1s 21ms/step - loss: 0.6731 - f1_score_metric: 0.3040 - val_loss: 0.7005 - val_f1_score_metric: 0.2617\n",
            "Epoch 100/100\n",
            "26/26 [==============================] - 1s 20ms/step - loss: 0.6720 - f1_score_metric: 0.3093 - val_loss: 0.7028 - val_f1_score_metric: 0.2618\n",
            "40/40 [==============================] - 1s 5ms/step\n"
          ]
        }
      ],
      "source": [
        "# Train the final model on your training data\n",
        "final_model.fit(X_train, y_train, epochs=100, batch_size=200, validation_data=(X_val, y_val))\n",
        "\n",
        "# Predict on the validation data\n",
        "y_pred = final_model.predict(X_val)\n",
        "\n",
        "# Calculate F1 score for the current weight combination\n",
        "f1 = f1_score(y_val, (y_pred > 0.5).astype(int))  # Assuming binary classification, adjust the threshold as needed"
      ]
    },
    {
      "cell_type": "code",
      "execution_count": null,
      "metadata": {
        "colab": {
          "base_uri": "https://localhost:8080/"
        },
        "id": "UCz3e3VK9a9C",
        "outputId": "243b5b48-7ced-45d8-b3f0-41742bc246ec"
      },
      "outputs": [
        {
          "name": "stderr",
          "output_type": "stream",
          "text": [
            "/usr/local/lib/python3.10/dist-packages/keras/src/engine/training.py:3079: UserWarning: You are saving your model as an HDF5 file via `model.save()`. This file format is considered legacy. We recommend using instead the native Keras format, e.g. `model.save('my_model.keras')`.\n",
            "  saving_api.save_model(\n"
          ]
        }
      ],
      "source": [
        "# Save the entire model (architecture and weights) to a file\n",
        "final_model.save('final_model.h5')"
      ]
    },
    {
      "cell_type": "code",
      "execution_count": null,
      "metadata": {
        "colab": {
          "base_uri": "https://localhost:8080/"
        },
        "id": "0naYRgcy__zU",
        "outputId": "1d0ff619-424d-4301-8eb8-2c4e554fa717"
      },
      "outputs": [
        {
          "name": "stdout",
          "output_type": "stream",
          "text": [
            "40/40 [==============================] - 0s 4ms/step\n"
          ]
        }
      ],
      "source": [
        "from sklearn.metrics import confusion_matrix\n",
        "y_pred = (final_model.predict(X_val) > 0.1).astype(int)\n",
        "confusion = confusion_matrix(y_val, y_pred)\n"
      ]
    },
    {
      "cell_type": "code",
      "execution_count": null,
      "metadata": {
        "colab": {
          "base_uri": "https://localhost:8080/",
          "height": 564
        },
        "id": "-XWgLmQeAW0t",
        "outputId": "59c2f053-979b-479f-ad98-e1bfdf310cd8"
      },
      "outputs": [
        {
          "data": {
            "image/png": "[encoded data removed]",
            "text/plain": [
              "<Figure size 800x600 with 2 Axes>"
            ]
          },
          "metadata": {},
          "output_type": "display_data"
        }
      ],
      "source": [
        "# Display the confusion matrix as a heatmap\n",
        "plt.figure(figsize=(8, 6))\n",
        "sns.heatmap(confusion, annot=True, fmt=\"d\", cmap=\"Blues\",\n",
        "            xticklabels=[\"Negative\", \"Positive\"], yticklabels=[\"Negative\", \"Positive\"])\n",
        "plt.xlabel('Predicted')\n",
        "plt.ylabel('True')\n",
        "plt.title('Confusion Matrix')\n",
        "plt.show()"
      ]
    },
    {
      "cell_type": "code",
      "execution_count": null,
      "metadata": {
        "colab": {
          "base_uri": "https://localhost:8080/"
        },
        "id": "6Tpgx-EpA24H",
        "outputId": "3f6735a7-2904-4bf2-af44-2779057cb8c4"
      },
      "outputs": [
        {
          "name": "stdout",
          "output_type": "stream",
          "text": [
            "                precision    recall  f1-score   support\n",
            "\n",
            "Will not click       0.73      0.01      0.03       606\n",
            "    Will click       0.52      1.00      0.68       654\n",
            "\n",
            "      accuracy                           0.52      1260\n",
            "     macro avg       0.62      0.50      0.36      1260\n",
            "  weighted avg       0.62      0.52      0.37      1260\n",
            "\n"
          ]
        }
      ],
      "source": [
        "# Generate a classification report\n",
        "report = classification_report(y_val, y_pred, target_names=[\"Will not click\", \"Will click\"])\n",
        "\n",
        "# Print the classification report\n",
        "print(report)"
      ]
    },
    {
      "cell_type": "code",
      "execution_count": null,
      "metadata": {
        "colab": {
          "base_uri": "https://localhost:8080/"
        },
        "id": "_fA5whNFEnWO",
        "outputId": "6a056cd2-735a-4e62-9440-7f85fcb596b3"
      },
      "outputs": [
        {
          "name": "stdout",
          "output_type": "stream",
          "text": [
            "1/1 [==============================] - 0s 19ms/step\n",
            "Users wont click the question 'I want to run briyani business from home kitchen .... '\n"
          ]
        }
      ],
      "source": [
        "# Make predictions on a new sentence\n",
        "new_sentence = \"I want to run briyani business from home kitchen .... \"\n",
        "new_sequence = tokenizer.texts_to_sequences([new_sentence])\n",
        "new_sequence = pad_sequences(new_sequence, maxlen=max_length)\n",
        "prediction = final_model.predict(new_sequence)\n",
        "predicted_class = np.argmax(prediction)\n",
        "\n",
        "output_class = {0: 'wont click', 1: 'will click'}\n",
        "print(f\"Users {output_class[predicted_class]} the question '{new_sentence}'\")\n",
        "\n"
      ]
    }
  ],
  "metadata": {
    "colab": {
      "machine_shape": "hm",
      "provenance": [],
      "authorship_tag": "ABX9TyNq7NZQofGF5wfp90tWRNq+",
      "include_colab_link": true
    },
    "kernelspec": {
      "display_name": "Python 3",
      "name": "python3"
    },
    "language_info": {
      "name": "python"
    }
  },
  "nbformat": 4,
  "nbformat_minor": 0
}