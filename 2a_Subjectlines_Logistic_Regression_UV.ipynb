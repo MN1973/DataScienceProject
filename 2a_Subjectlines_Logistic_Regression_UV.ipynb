{
  "cells": [
    {
      "cell_type": "markdown",
      "metadata": {
        "id": "view-in-github",
        "colab_type": "text"
      },
      "source": [
        "<a href=\"https://colab.research.google.com/github/MN1973/DataScienceProject/blob/main/2a_Subjectlines_Logistic_Regression_UV.ipynb\" target=\"_parent\"><img src=\"https://colab.research.google.com/assets/colab-badge.svg\" alt=\"Open In Colab\"/></a>"
      ]
    },
    {
      "cell_type": "code",
      "execution_count": null,
      "metadata": {
        "id": "xNmQiMidcQbG"
      },
      "outputs": [],
      "source": [
        "import numpy as np\n",
        "import pandas as pd\n",
        "import matplotlib.pyplot as plt\n",
        "import pickle\n",
        "import bz2\n",
        "import scipy\n",
        "import numpy as np\n",
        "import pandas as pd\n",
        "import matplotlib.pyplot as plt\n",
        "import seaborn as sns\n",
        "from sklearn.model_selection import train_test_split\n",
        "from sklearn.datasets import make_classification\n",
        "from sklearn.linear_model import LogisticRegression\n",
        "from sklearn.model_selection import train_test_split\n",
        "from sklearn.pipeline import make_pipeline\n",
        "from sklearn.pipeline import Pipeline\n",
        "from sklearn.preprocessing import StandardScaler"
      ]
    },
    {
      "cell_type": "code",
      "execution_count": null,
      "metadata": {
        "colab": {
          "base_uri": "https://localhost:8080/"
        },
        "id": "irXk-6mQeEoF",
        "outputId": "40603242-f132-4d5a-ab8c-fe081e1b165e"
      },
      "outputs": [
        {
          "output_type": "stream",
          "name": "stdout",
          "text": [
            "Mounted at /content/drive\n"
          ]
        }
      ],
      "source": [
        "from google.colab import drive\n",
        "drive.mount('/content/drive')"
      ]
    },
    {
      "cell_type": "code",
      "execution_count": null,
      "metadata": {
        "id": "hfyw62vteYWU"
      },
      "outputs": [],
      "source": [
        "DATA_PATH = \"/content/drive/MyDrive/Mandar/Project/\"\n",
        "infile = open(DATA_PATH+'/9M.pkl','rb')\n",
        "df = pickle.load(infile)"
      ]
    },
    {
      "cell_type": "code",
      "execution_count": null,
      "metadata": {
        "colab": {
          "base_uri": "https://localhost:8080/"
        },
        "id": "iSgttv77TWoa",
        "outputId": "436684d1-2cd8-4e02-bba8-8e8c6478a6bb"
      },
      "outputs": [
        {
          "output_type": "execute_result",
          "data": {
            "text/plain": [
              "(9569374, 988)"
            ]
          },
          "metadata": {},
          "execution_count": 4
        }
      ],
      "source": [
        "df.shape"
      ]
    },
    {
      "cell_type": "code",
      "execution_count": null,
      "metadata": {
        "colab": {
          "base_uri": "https://localhost:8080/",
          "height": 507
        },
        "id": "CiJBQubXNvmU",
        "outputId": "2d57a5b5-7f5c-4af8-eb83-47752d5122c2"
      },
      "outputs": [
        {
          "output_type": "execute_result",
          "data": {
            "text/plain": [
              "   login_freq_in_OND21 age_breaks account_agebreaks  \\\n",
              "0                   54  35to44yrs      acc11to15yrs   \n",
              "1                   84  45to54yrs       acc6to10yrs   \n",
              "2                   81     55+yrs         acc15+yrs   \n",
              "3                   87  45to54yrs      acc11to15yrs   \n",
              "4                   76  35to44yrs      acc11to15yrs   \n",
              "\n",
              "                                     subject  sub_length  sub_no_of_words  \\\n",
              "0  Trading A/c: Lowest Cost  Great Offerings          41                6   \n",
              "1                   Demat A/c In Just 5 mins          24                6   \n",
              "2     Complete family cover in a single plan          38                7   \n",
              "3         Limit risk of health complications          34                5   \n",
              "4   Stock market is calling  Start investing          40                6   \n",
              "\n",
              "   percentage_used  sender_name_brand  sender_name_rediff  sender_name_person  \\\n",
              "0                0                  1                   0                   0   \n",
              "1                0                  1                   0                   0   \n",
              "2                0                  0                   0                   0   \n",
              "3                0                  1                   0                   0   \n",
              "4                0                  1                   0                   0   \n",
              "\n",
              "   ...  worth  would  write  x yamuna year  yeoor  yet  yr  zero  \n",
              "0  ...      0      0      0  0      0    0      0    0   0     0  \n",
              "1  ...      0      0      0  0      0    0      0    0   0     0  \n",
              "2  ...      0      0      0  0      0    0      0    0   0     0  \n",
              "3  ...      0      0      0  0      0    0      0    0   0     0  \n",
              "4  ...      0      0      0  0      0    0      0    0   0     0  \n",
              "\n",
              "[5 rows x 988 columns]"
            ],
            "text/html": [
              "\n",
              "  <div id=\"df-e02bb898-fc99-4a10-95c1-be5b1f9dda58\">\n",
              "    <div class=\"colab-df-container\">\n",
              "      <div>\n",
              "<style scoped>\n",
              "    .dataframe tbody tr th:only-of-type {\n",
              "        vertical-align: middle;\n",
              "    }\n",
              "\n",
              "    .dataframe tbody tr th {\n",
              "        vertical-align: top;\n",
              "    }\n",
              "\n",
              "    .dataframe thead th {\n",
              "        text-align: right;\n",
              "    }\n",
              "</style>\n",
              "<table border=\"1\" class=\"dataframe\">\n",
              "  <thead>\n",
              "    <tr style=\"text-align: right;\">\n",
              "      <th></th>\n",
              "      <th>login_freq_in_OND21</th>\n",
              "      <th>age_breaks</th>\n",
              "      <th>account_agebreaks</th>\n",
              "      <th>subject</th>\n",
              "      <th>sub_length</th>\n",
              "      <th>sub_no_of_words</th>\n",
              "      <th>percentage_used</th>\n",
              "      <th>sender_name_brand</th>\n",
              "      <th>sender_name_rediff</th>\n",
              "      <th>sender_name_person</th>\n",
              "      <th>...</th>\n",
              "      <th>worth</th>\n",
              "      <th>would</th>\n",
              "      <th>write</th>\n",
              "      <th>x</th>\n",
              "      <th>yamuna</th>\n",
              "      <th>year</th>\n",
              "      <th>yeoor</th>\n",
              "      <th>yet</th>\n",
              "      <th>yr</th>\n",
              "      <th>zero</th>\n",
              "    </tr>\n",
              "  </thead>\n",
              "  <tbody>\n",
              "    <tr>\n",
              "      <th>0</th>\n",
              "      <td>54</td>\n",
              "      <td>35to44yrs</td>\n",
              "      <td>acc11to15yrs</td>\n",
              "      <td>Trading A/c: Lowest Cost  Great Offerings</td>\n",
              "      <td>41</td>\n",
              "      <td>6</td>\n",
              "      <td>0</td>\n",
              "      <td>1</td>\n",
              "      <td>0</td>\n",
              "      <td>0</td>\n",
              "      <td>...</td>\n",
              "      <td>0</td>\n",
              "      <td>0</td>\n",
              "      <td>0</td>\n",
              "      <td>0</td>\n",
              "      <td>0</td>\n",
              "      <td>0</td>\n",
              "      <td>0</td>\n",
              "      <td>0</td>\n",
              "      <td>0</td>\n",
              "      <td>0</td>\n",
              "    </tr>\n",
              "    <tr>\n",
              "      <th>1</th>\n",
              "      <td>84</td>\n",
              "      <td>45to54yrs</td>\n",
              "      <td>acc6to10yrs</td>\n",
              "      <td>Demat A/c In Just 5 mins</td>\n",
              "      <td>24</td>\n",
              "      <td>6</td>\n",
              "      <td>0</td>\n",
              "      <td>1</td>\n",
              "      <td>0</td>\n",
              "      <td>0</td>\n",
              "      <td>...</td>\n",
              "      <td>0</td>\n",
              "      <td>0</td>\n",
              "      <td>0</td>\n",
              "      <td>0</td>\n",
              "      <td>0</td>\n",
              "      <td>0</td>\n",
              "      <td>0</td>\n",
              "      <td>0</td>\n",
              "      <td>0</td>\n",
              "      <td>0</td>\n",
              "    </tr>\n",
              "    <tr>\n",
              "      <th>2</th>\n",
              "      <td>81</td>\n",
              "      <td>55+yrs</td>\n",
              "      <td>acc15+yrs</td>\n",
              "      <td>Complete family cover in a single plan</td>\n",
              "      <td>38</td>\n",
              "      <td>7</td>\n",
              "      <td>0</td>\n",
              "      <td>0</td>\n",
              "      <td>0</td>\n",
              "      <td>0</td>\n",
              "      <td>...</td>\n",
              "      <td>0</td>\n",
              "      <td>0</td>\n",
              "      <td>0</td>\n",
              "      <td>0</td>\n",
              "      <td>0</td>\n",
              "      <td>0</td>\n",
              "      <td>0</td>\n",
              "      <td>0</td>\n",
              "      <td>0</td>\n",
              "      <td>0</td>\n",
              "    </tr>\n",
              "    <tr>\n",
              "      <th>3</th>\n",
              "      <td>87</td>\n",
              "      <td>45to54yrs</td>\n",
              "      <td>acc11to15yrs</td>\n",
              "      <td>Limit risk of health complications</td>\n",
              "      <td>34</td>\n",
              "      <td>5</td>\n",
              "      <td>0</td>\n",
              "      <td>1</td>\n",
              "      <td>0</td>\n",
              "      <td>0</td>\n",
              "      <td>...</td>\n",
              "      <td>0</td>\n",
              "      <td>0</td>\n",
              "      <td>0</td>\n",
              "      <td>0</td>\n",
              "      <td>0</td>\n",
              "      <td>0</td>\n",
              "      <td>0</td>\n",
              "      <td>0</td>\n",
              "      <td>0</td>\n",
              "      <td>0</td>\n",
              "    </tr>\n",
              "    <tr>\n",
              "      <th>4</th>\n",
              "      <td>76</td>\n",
              "      <td>35to44yrs</td>\n",
              "      <td>acc11to15yrs</td>\n",
              "      <td>Stock market is calling  Start investing</td>\n",
              "      <td>40</td>\n",
              "      <td>6</td>\n",
              "      <td>0</td>\n",
              "      <td>1</td>\n",
              "      <td>0</td>\n",
              "      <td>0</td>\n",
              "      <td>...</td>\n",
              "      <td>0</td>\n",
              "      <td>0</td>\n",
              "      <td>0</td>\n",
              "      <td>0</td>\n",
              "      <td>0</td>\n",
              "      <td>0</td>\n",
              "      <td>0</td>\n",
              "      <td>0</td>\n",
              "      <td>0</td>\n",
              "      <td>0</td>\n",
              "    </tr>\n",
              "  </tbody>\n",
              "</table>\n",
              "<p>5 rows × 988 columns</p>\n",
              "</div>\n",
              "      <button class=\"colab-df-convert\" onclick=\"convertToInteractive('df-e02bb898-fc99-4a10-95c1-be5b1f9dda58')\"\n",
              "              title=\"Convert this dataframe to an interactive table.\"\n",
              "              style=\"display:none;\">\n",
              "        \n",
              "  <svg xmlns=\"http://www.w3.org/2000/svg\" height=\"24px\"viewBox=\"0 0 24 24\"\n",
              "       width=\"24px\">\n",
              "    <path d=\"M0 0h24v24H0V0z\" fill=\"none\"/>\n",
              "    <path d=\"M18.56 5.44l.94 2.06.94-2.06 2.06-.94-2.06-.94-.94-2.06-.94 2.06-2.06.94zm-11 1L8.5 8.5l.94-2.06 2.06-.94-2.06-.94L8.5 2.5l-.94 2.06-2.06.94zm10 10l.94 2.06.94-2.06 2.06-.94-2.06-.94-.94-2.06-.94 2.06-2.06.94z\"/><path d=\"M17.41 7.96l-1.37-1.37c-.4-.4-.92-.59-1.43-.59-.52 0-1.04.2-1.43.59L10.3 9.45l-7.72 7.72c-.78.78-.78 2.05 0 2.83L4 21.41c.39.39.9.59 1.41.59.51 0 1.02-.2 1.41-.59l7.78-7.78 2.81-2.81c.8-.78.8-2.07 0-2.86zM5.41 20L4 18.59l7.72-7.72 1.47 1.35L5.41 20z\"/>\n",
              "  </svg>\n",
              "      </button>\n",
              "      \n",
              "  <style>\n",
              "    .colab-df-container {\n",
              "      display:flex;\n",
              "      flex-wrap:wrap;\n",
              "      gap: 12px;\n",
              "    }\n",
              "\n",
              "    .colab-df-convert {\n",
              "      background-color: #E8F0FE;\n",
              "      border: none;\n",
              "      border-radius: 50%;\n",
              "      cursor: pointer;\n",
              "      display: none;\n",
              "      fill: #1967D2;\n",
              "      height: 32px;\n",
              "      padding: 0 0 0 0;\n",
              "      width: 32px;\n",
              "    }\n",
              "\n",
              "    .colab-df-convert:hover {\n",
              "      background-color: #E2EBFA;\n",
              "      box-shadow: 0px 1px 2px rgba(60, 64, 67, 0.3), 0px 1px 3px 1px rgba(60, 64, 67, 0.15);\n",
              "      fill: #174EA6;\n",
              "    }\n",
              "\n",
              "    [theme=dark] .colab-df-convert {\n",
              "      background-color: #3B4455;\n",
              "      fill: #D2E3FC;\n",
              "    }\n",
              "\n",
              "    [theme=dark] .colab-df-convert:hover {\n",
              "      background-color: #434B5C;\n",
              "      box-shadow: 0px 1px 3px 1px rgba(0, 0, 0, 0.15);\n",
              "      filter: drop-shadow(0px 1px 2px rgba(0, 0, 0, 0.3));\n",
              "      fill: #FFFFFF;\n",
              "    }\n",
              "  </style>\n",
              "\n",
              "      <script>\n",
              "        const buttonEl =\n",
              "          document.querySelector('#df-e02bb898-fc99-4a10-95c1-be5b1f9dda58 button.colab-df-convert');\n",
              "        buttonEl.style.display =\n",
              "          google.colab.kernel.accessAllowed ? 'block' : 'none';\n",
              "\n",
              "        async function convertToInteractive(key) {\n",
              "          const element = document.querySelector('#df-e02bb898-fc99-4a10-95c1-be5b1f9dda58');\n",
              "          const dataTable =\n",
              "            await google.colab.kernel.invokeFunction('convertToInteractive',\n",
              "                                                     [key], {});\n",
              "          if (!dataTable) return;\n",
              "\n",
              "          const docLinkHtml = 'Like what you see? Visit the ' +\n",
              "            '<a target=\"_blank\" href=https://colab.research.google.com/notebooks/data_table.ipynb>data table notebook</a>'\n",
              "            + ' to learn more about interactive tables.';\n",
              "          element.innerHTML = '';\n",
              "          dataTable['output_type'] = 'display_data';\n",
              "          await google.colab.output.renderOutput(dataTable, element);\n",
              "          const docLink = document.createElement('div');\n",
              "          docLink.innerHTML = docLinkHtml;\n",
              "          element.appendChild(docLink);\n",
              "        }\n",
              "      </script>\n",
              "    </div>\n",
              "  </div>\n",
              "  "
            ]
          },
          "metadata": {},
          "execution_count": 5
        }
      ],
      "source": [
        "df.head(5)"
      ]
    },
    {
      "cell_type": "code",
      "execution_count": null,
      "metadata": {
        "colab": {
          "base_uri": "https://localhost:8080/"
        },
        "id": "aZm2bWWIgNeK",
        "outputId": "164a8d4a-a555-431d-93eb-6cbbae6d4649"
      },
      "outputs": [
        {
          "output_type": "execute_result",
          "data": {
            "text/plain": [
              "Index(['login_freq_in_OND21', 'age_breaks', 'account_agebreaks', 'subject',\n",
              "       'sub_length', 'sub_no_of_words', 'percentage_used', 'sender_name_brand',\n",
              "       'sender_name_rediff', 'sender_name_person',\n",
              "       ...\n",
              "       'worth', 'would', 'write', 'x', 'yamuna', 'year', 'yeoor', 'yet', 'yr',\n",
              "       'zero'],\n",
              "      dtype='object', length=988)"
            ]
          },
          "metadata": {},
          "execution_count": 6
        }
      ],
      "source": [
        "df.columns"
      ]
    },
    {
      "cell_type": "code",
      "execution_count": null,
      "metadata": {
        "colab": {
          "base_uri": "https://localhost:8080/"
        },
        "id": "OE-VgVRSCtuT",
        "outputId": "d47d4f08-1d85-40be-b87e-2b4fe492f1ec"
      },
      "outputs": [
        {
          "output_type": "execute_result",
          "data": {
            "text/plain": [
              "0      9273287\n",
              "1       247341\n",
              "2        34251\n",
              "3         8594\n",
              "4         3040\n",
              "5         1235\n",
              "6          629\n",
              "7          333\n",
              "8          219\n",
              "9          110\n",
              "10          73\n",
              "11          44\n",
              "12          42\n",
              "13          26\n",
              "14          21\n",
              "15          19\n",
              "17          16\n",
              "16          11\n",
              "19          10\n",
              "18           9\n",
              "26           6\n",
              "20           5\n",
              "23           5\n",
              "22           5\n",
              "25           4\n",
              "21           4\n",
              "58           3\n",
              "24           3\n",
              "31           3\n",
              "28           2\n",
              "34           2\n",
              "43           2\n",
              "32           2\n",
              "33           2\n",
              "41           2\n",
              "29           2\n",
              "30           1\n",
              "85           1\n",
              "48           1\n",
              "75           1\n",
              "46           1\n",
              "60           1\n",
              "52           1\n",
              "53           1\n",
              "86           1\n",
              "121          1\n",
              "65           1\n",
              "39           1\n",
              "Name: nl_open, dtype: int64"
            ]
          },
          "metadata": {},
          "execution_count": 7
        }
      ],
      "source": [
        "valy=df['nl_open'].value_counts()\n",
        "valy"
      ]
    },
    {
      "cell_type": "code",
      "execution_count": null,
      "metadata": {
        "id": "HNPLFI0hXJxR"
      },
      "outputs": [],
      "source": [
        "df.loc[df['nl_open'] < 0, 'nl_open'] = 0\n",
        "df.loc[df['nl_open'] > 0, 'nl_open'] = 1"
      ]
    },
    {
      "cell_type": "code",
      "execution_count": null,
      "metadata": {
        "colab": {
          "base_uri": "https://localhost:8080/"
        },
        "id": "KM6aW8XKXUGt",
        "outputId": "4790f1d0-16a7-4c5a-f9a5-799094198934"
      },
      "outputs": [
        {
          "output_type": "stream",
          "name": "stdout",
          "text": [
            "[1 0]\n"
          ]
        }
      ],
      "source": [
        "uniqueValues = df['nl_open'].unique()\n",
        "print(uniqueValues)"
      ]
    },
    {
      "cell_type": "code",
      "execution_count": null,
      "metadata": {
        "id": "e0AjQdhH9OTg"
      },
      "outputs": [],
      "source": [
        "Y = df['nl_open']"
      ]
    },
    {
      "cell_type": "code",
      "execution_count": null,
      "metadata": {
        "colab": {
          "base_uri": "https://localhost:8080/"
        },
        "id": "d1nJqOYVLvYr",
        "outputId": "54144c2e-271a-43c3-fc91-196b88c1acd9"
      },
      "outputs": [
        {
          "output_type": "execute_result",
          "data": {
            "text/plain": [
              "0    9273287\n",
              "1     296087\n",
              "Name: nl_open, dtype: int64"
            ]
          },
          "metadata": {},
          "execution_count": 11
        }
      ],
      "source": [
        "Y.value_counts()"
      ]
    },
    {
      "cell_type": "code",
      "execution_count": null,
      "metadata": {
        "colab": {
          "base_uri": "https://localhost:8080/"
        },
        "id": "j8u_4KsiOwwf",
        "outputId": "b653c8a9-111d-418e-c229-4b143f78f954"
      },
      "outputs": [
        {
          "output_type": "stream",
          "name": "stdout",
          "text": [
            "acc15+yrs\n"
          ]
        }
      ],
      "source": [
        "colname = df.columns[48]\n",
        "print(colname)"
      ]
    },
    {
      "cell_type": "code",
      "execution_count": null,
      "metadata": {
        "colab": {
          "base_uri": "https://localhost:8080/"
        },
        "id": "7TI8mbiI75Tf",
        "outputId": "9be80139-8339-4131-d42b-a22b48db1117"
      },
      "outputs": [
        {
          "output_type": "execute_result",
          "data": {
            "text/plain": [
              "0"
            ]
          },
          "metadata": {},
          "execution_count": 13
        }
      ],
      "source": [
        "df.columns.get_loc('login_freq_in_OND21')"
      ]
    },
    {
      "cell_type": "markdown",
      "metadata": {
        "id": "CT16JqJ7oU7u"
      },
      "source": [
        "# Without Tokens"
      ]
    },
    {
      "cell_type": "code",
      "execution_count": null,
      "metadata": {
        "id": "2rb15BI9a-af"
      },
      "outputs": [],
      "source": [
        "X = df.iloc[:, np.r_[6,7,10,16:30,38:49]]\n",
        "#X1 = df.iloc[:, np.r_[6,7,10,16:30,38:988]]"
      ]
    },
    {
      "cell_type": "code",
      "execution_count": null,
      "metadata": {
        "colab": {
          "base_uri": "https://localhost:8080/"
        },
        "id": "5erxIY4696je",
        "outputId": "2e03ebc7-3acf-4249-ac06-10a17cc44b24"
      },
      "outputs": [
        {
          "output_type": "execute_result",
          "data": {
            "text/plain": [
              "(9569374, 28)"
            ]
          },
          "metadata": {},
          "execution_count": 15
        }
      ],
      "source": [
        "X.shape"
      ]
    },
    {
      "cell_type": "code",
      "execution_count": null,
      "metadata": {
        "colab": {
          "base_uri": "https://localhost:8080/"
        },
        "id": "7CQUsZWvakuf",
        "outputId": "306d7a32-6c61-4fc4-b55a-31fae0df0c6a"
      },
      "outputs": [
        {
          "output_type": "execute_result",
          "data": {
            "text/plain": [
              "Index(['percentage_used', 'sender_name_brand', 'sender_name_others', 'is_male',\n",
              "       'automobile', 'bfsi_business_loan', 'bfsi_credit_cards', 'bfsi_equity',\n",
              "       'bfsi_fixed_deposit', 'bfsi_health_ins', 'bfsi_motor_ins',\n",
              "       'bfsi_mutual_funds', 'bfsi_personal_loan', 'bfsi_term_ins', 'education',\n",
              "       'health', 'real_estate', 'upto19yrs', '20to24yrs', '25to34yrs',\n",
              "       '35to44yrs', '45to54yrs', '55+yrs', 'accupto2', 'acc3to5yrs',\n",
              "       'acc6to10yrs', 'acc11to15yrs', 'acc15+yrs'],\n",
              "      dtype='object')"
            ]
          },
          "metadata": {},
          "execution_count": 16
        }
      ],
      "source": [
        "X.columns"
      ]
    },
    {
      "cell_type": "code",
      "execution_count": null,
      "metadata": {
        "id": "vwnXgtwXEPi0"
      },
      "outputs": [],
      "source": [
        "X_train, X_test, y_train, y_test = train_test_split( X, Y, test_size = 0.3, random_state = 42)"
      ]
    },
    {
      "cell_type": "code",
      "execution_count": null,
      "metadata": {
        "colab": {
          "base_uri": "https://localhost:8080/"
        },
        "id": "lw9JxqBjB2R9",
        "outputId": "9e71cd90-f774-4cd2-9ae0-b7e4fb59a316"
      },
      "outputs": [
        {
          "output_type": "execute_result",
          "data": {
            "text/plain": [
              "(6698561, 28)"
            ]
          },
          "metadata": {},
          "execution_count": 18
        }
      ],
      "source": [
        "X_train.shape"
      ]
    },
    {
      "cell_type": "code",
      "execution_count": null,
      "metadata": {
        "colab": {
          "base_uri": "https://localhost:8080/"
        },
        "id": "LibN97-JB8cu",
        "outputId": "754d32be-0120-49fc-9da0-b931fd3a5283"
      },
      "outputs": [
        {
          "output_type": "execute_result",
          "data": {
            "text/plain": [
              "(6698561,)"
            ]
          },
          "metadata": {},
          "execution_count": 19
        }
      ],
      "source": [
        "y_train.shape"
      ]
    },
    {
      "cell_type": "code",
      "source": [
        "model = LogisticRegression()"
      ],
      "metadata": {
        "id": "WpQIbStrL9Qq"
      },
      "execution_count": null,
      "outputs": []
    },
    {
      "cell_type": "code",
      "source": [
        "from sklearn.model_selection import RepeatedStratifiedKFold\n",
        "cv = RepeatedStratifiedKFold(n_splits=5, n_repeats=2, random_state=42)"
      ],
      "metadata": {
        "id": "gY-iB8IBIxR9"
      },
      "execution_count": null,
      "outputs": []
    },
    {
      "cell_type": "code",
      "source": [
        "from sklearn.utils.fixes import loguniform\n",
        "space = dict()\n",
        "space['solver'] = ['newton-cg', 'lbfgs', 'saga']\n",
        "space['penalty'] = ['none', 'l1', 'l2', 'elasticnet']\n",
        "space['C'] = loguniform(1e-5, 5)"
      ],
      "metadata": {
        "id": "AkIRng6KIz71"
      },
      "execution_count": null,
      "outputs": []
    },
    {
      "cell_type": "code",
      "source": [
        "from sklearn.model_selection import RandomizedSearchCV\n",
        "search = RandomizedSearchCV(model, space, n_iter=10, scoring='accuracy', n_jobs=-1, cv=cv, random_state=42)"
      ],
      "metadata": {
        "id": "07KofpqiI9YB"
      },
      "execution_count": null,
      "outputs": []
    },
    {
      "cell_type": "code",
      "source": [
        "result = search.fit(X_train, y_train)"
      ],
      "metadata": {
        "colab": {
          "base_uri": "https://localhost:8080/"
        },
        "id": "Og1WlFYWJAnI",
        "outputId": "304247a4-6ff7-4dae-9192-b6fbe7cc0c9d"
      },
      "execution_count": null,
      "outputs": [
        {
          "output_type": "stream",
          "name": "stderr",
          "text": [
            "/usr/local/lib/python3.7/dist-packages/joblib/externals/loky/process_executor.py:705: UserWarning: A worker stopped while some jobs were given to the executor. This can be caused by a too short worker timeout or by a memory leak.\n",
            "  \"timeout or by a memory leak.\", UserWarning\n",
            "/usr/local/lib/python3.7/dist-packages/sklearn/model_selection/_validation.py:372: FitFailedWarning: \n",
            "50 fits failed out of a total of 100.\n",
            "The score on these train-test partitions for these parameters will be set to nan.\n",
            "If these failures are not expected, you can try to debug them by setting error_score='raise'.\n",
            "\n",
            "Below are more details about the failures:\n",
            "--------------------------------------------------------------------------------\n",
            "20 fits failed with the following error:\n",
            "Traceback (most recent call last):\n",
            "  File \"/usr/local/lib/python3.7/dist-packages/sklearn/model_selection/_validation.py\", line 680, in _fit_and_score\n",
            "    estimator.fit(X_train, y_train, **fit_params)\n",
            "  File \"/usr/local/lib/python3.7/dist-packages/sklearn/linear_model/_logistic.py\", line 1461, in fit\n",
            "    solver = _check_solver(self.solver, self.penalty, self.dual)\n",
            "  File \"/usr/local/lib/python3.7/dist-packages/sklearn/linear_model/_logistic.py\", line 449, in _check_solver\n",
            "    % (solver, penalty)\n",
            "ValueError: Solver newton-cg supports only 'l2' or 'none' penalties, got elasticnet penalty.\n",
            "\n",
            "--------------------------------------------------------------------------------\n",
            "10 fits failed with the following error:\n",
            "Traceback (most recent call last):\n",
            "  File \"/usr/local/lib/python3.7/dist-packages/sklearn/model_selection/_validation.py\", line 680, in _fit_and_score\n",
            "    estimator.fit(X_train, y_train, **fit_params)\n",
            "  File \"/usr/local/lib/python3.7/dist-packages/sklearn/linear_model/_logistic.py\", line 1473, in fit\n",
            "    % self.l1_ratio\n",
            "ValueError: l1_ratio must be between 0 and 1; got (l1_ratio=None)\n",
            "\n",
            "--------------------------------------------------------------------------------\n",
            "20 fits failed with the following error:\n",
            "Traceback (most recent call last):\n",
            "  File \"/usr/local/lib/python3.7/dist-packages/sklearn/model_selection/_validation.py\", line 680, in _fit_and_score\n",
            "    estimator.fit(X_train, y_train, **fit_params)\n",
            "  File \"/usr/local/lib/python3.7/dist-packages/sklearn/linear_model/_logistic.py\", line 1461, in fit\n",
            "    solver = _check_solver(self.solver, self.penalty, self.dual)\n",
            "  File \"/usr/local/lib/python3.7/dist-packages/sklearn/linear_model/_logistic.py\", line 449, in _check_solver\n",
            "    % (solver, penalty)\n",
            "ValueError: Solver lbfgs supports only 'l2' or 'none' penalties, got l1 penalty.\n",
            "\n",
            "  warnings.warn(some_fits_failed_message, FitFailedWarning)\n",
            "/usr/local/lib/python3.7/dist-packages/sklearn/model_selection/_search.py:972: UserWarning: One or more of the test scores are non-finite: [0.96902887 0.96902887 0.96902887        nan        nan        nan\n",
            "        nan        nan 0.96902887 0.96902887]\n",
            "  category=UserWarning,\n",
            "/usr/local/lib/python3.7/dist-packages/sklearn/linear_model/_logistic.py:1484: UserWarning: Setting penalty='none' will ignore the C and l1_ratio parameters\n",
            "  \"Setting penalty='none' will ignore the C and l1_ratio parameters\"\n"
          ]
        }
      ]
    },
    {
      "cell_type": "code",
      "source": [
        "print('Best Score: %s' % result.best_score_)\n",
        "print('Best Hyperparameters: %s' % result.best_params_)"
      ],
      "metadata": {
        "id": "7RarGv4OJEBU",
        "colab": {
          "base_uri": "https://localhost:8080/"
        },
        "outputId": "f7fc7129-1c3d-4fc4-f7d0-d32889dfce94"
      },
      "execution_count": null,
      "outputs": [
        {
          "output_type": "stream",
          "name": "stdout",
          "text": [
            "Best Score: 0.9690288705291226\n",
            "Best Hyperparameters: {'C': 0.0013629907319433752, 'penalty': 'none', 'solver': 'saga'}\n"
          ]
        }
      ]
    },
    {
      "cell_type": "code",
      "execution_count": null,
      "metadata": {
        "colab": {
          "base_uri": "https://localhost:8080/"
        },
        "id": "L8TWUEb42hSO",
        "outputId": "d1f0cc05-d17e-40cb-a35a-337075e4d421"
      },
      "outputs": [
        {
          "output_type": "stream",
          "name": "stderr",
          "text": [
            "/usr/local/lib/python3.7/dist-packages/sklearn/linear_model/_logistic.py:1484: UserWarning: Setting penalty='none' will ignore the C and l1_ratio parameters\n",
            "  \"Setting penalty='none' will ignore the C and l1_ratio parameters\"\n",
            "/usr/local/lib/python3.7/dist-packages/sklearn/linear_model/_sag.py:354: ConvergenceWarning: The max_iter was reached which means the coef_ did not converge\n",
            "  ConvergenceWarning,\n"
          ]
        },
        {
          "output_type": "execute_result",
          "data": {
            "text/plain": [
              "0.6155712684873588"
            ]
          },
          "metadata": {},
          "execution_count": 26
        }
      ],
      "source": [
        "X, y = make_classification(random_state = 42)\n",
        "#X_train, X_test, y_train, y_test = train_test_split(X, y, test_size = 0.33, random_state = 42)\n",
        "pipe = make_pipeline(StandardScaler(), LogisticRegression(solver='saga',max_iter=500, class_weight='balanced',C= 0.0013629907319433752, penalty = 'none'))\n",
        "pipe.fit(X_train, y_train)  # apply scaling on training data\n",
        "Pipeline(steps=[('standardscaler', StandardScaler()),\n",
        "                ('logisticregression', LogisticRegression())])\n",
        "\n",
        "pipe.score(X_test, y_test)"
      ]
    },
    {
      "cell_type": "code",
      "execution_count": null,
      "metadata": {
        "id": "_35gQjNeJktF"
      },
      "outputs": [],
      "source": [
        "y_pred = pipe.predict(X_test)"
      ]
    },
    {
      "cell_type": "code",
      "execution_count": null,
      "metadata": {
        "colab": {
          "base_uri": "https://localhost:8080/"
        },
        "id": "uw5AlyCd6M-1",
        "outputId": "cd621365-2541-4f1f-98c8-51484b7728bc"
      },
      "outputs": [
        {
          "output_type": "execute_result",
          "data": {
            "text/plain": [
              "(6698561,)"
            ]
          },
          "metadata": {},
          "execution_count": 28
        }
      ],
      "source": [
        "y_train.shape"
      ]
    },
    {
      "cell_type": "code",
      "execution_count": null,
      "metadata": {
        "colab": {
          "base_uri": "https://localhost:8080/"
        },
        "id": "X6D_9M9_Jo-1",
        "outputId": "ea24a63e-1fa4-405a-cb00-58ad42be1bf5"
      },
      "outputs": [
        {
          "output_type": "stream",
          "name": "stdout",
          "text": [
            "Confusion Matrix : \n",
            " [[1723221 1058967]\n",
            " [  44656   43969]]\n"
          ]
        }
      ],
      "source": [
        "from sklearn.metrics import confusion_matrix\n",
        "cm_t = confusion_matrix(y_test, y_pred)\n",
        "\n",
        "print (\"Confusion Matrix : \\n\", cm_t)"
      ]
    },
    {
      "cell_type": "code",
      "execution_count": null,
      "metadata": {
        "colab": {
          "base_uri": "https://localhost:8080/",
          "height": 293
        },
        "id": "VJr29hnLJKhY",
        "outputId": "79f2f1c8-9f6e-4ef5-93a9-95deb11e3b68"
      },
      "outputs": [
        {
          "output_type": "execute_result",
          "data": {
            "text/plain": [
              "<matplotlib.axes._subplots.AxesSubplot at 0x7f2a818d8050>"
            ]
          },
          "metadata": {},
          "execution_count": 30
        },
        {
          "output_type": "display_data",
          "data": {
            "text/plain": [
              "<Figure size 432x288 with 2 Axes>"
            ],
            "image/png": "[encoded data removed]"
          },
          "metadata": {
            "needs_background": "light"
          }
        }
      ],
      "source": [
        "import seaborn as sns\n",
        "sns.heatmap(cm_t, annot=True, cmap='Blues',fmt='g')"
      ]
    },
    {
      "cell_type": "code",
      "execution_count": null,
      "metadata": {
        "colab": {
          "base_uri": "https://localhost:8080/"
        },
        "id": "nRGZ5FEAMXan",
        "outputId": "1e45dce3-33a4-4b22-b110-08d88a697e49"
      },
      "outputs": [
        {
          "output_type": "stream",
          "name": "stdout",
          "text": [
            "Accuracy :  0.6155712684873588\n"
          ]
        }
      ],
      "source": [
        "from sklearn.metrics import accuracy_score\n",
        "print (\"Accuracy : \", accuracy_score(y_test, y_pred))"
      ]
    },
    {
      "cell_type": "code",
      "execution_count": null,
      "metadata": {
        "colab": {
          "base_uri": "https://localhost:8080/"
        },
        "id": "RTQwvFD_VMeR",
        "outputId": "288ecae7-198e-48ed-eddd-503ca3e5cc4d"
      },
      "outputs": [
        {
          "output_type": "stream",
          "name": "stdout",
          "text": [
            "              precision    recall  f1-score   support\n",
            "\n",
            "           0       0.97      0.62      0.76   2782188\n",
            "           1       0.04      0.50      0.07     88625\n",
            "\n",
            "    accuracy                           0.62   2870813\n",
            "   macro avg       0.51      0.56      0.42   2870813\n",
            "weighted avg       0.95      0.62      0.74   2870813\n",
            "\n"
          ]
        }
      ],
      "source": [
        "from sklearn.metrics import classification_report\n",
        "print(classification_report(y_test, y_pred))"
      ]
    },
    {
      "cell_type": "code",
      "execution_count": null,
      "metadata": {
        "id": "Yz4Qn7pduhSy"
      },
      "outputs": [],
      "source": [
        "feature_names = ['percentage_used', 'sender_name_brand', 'sender_name_others', 'is_male',\n",
        "       'automobile', 'bfsi_business_loan', 'bfsi_credit_cards', 'bfsi_equity',\n",
        "       'bfsi_fixed_deposit', 'bfsi_health_ins', 'bfsi_motor_ins',\n",
        "       'bfsi_mutual_funds', 'bfsi_personal_loan', 'bfsi_term_ins', 'education',\n",
        "       'health', 'real_estate', 'upto19yrs', '20to24yrs', '25to34yrs',\n",
        "       '35to44yrs', '45to54yrs', '55+yrs', 'accupto2', 'acc3to5yrs',\n",
        "       'acc6to10yrs', 'acc11to15yrs', 'acc15+yrs']"
      ]
    },
    {
      "cell_type": "code",
      "execution_count": null,
      "metadata": {
        "colab": {
          "base_uri": "https://localhost:8080/"
        },
        "id": "oP20vUqU02sl",
        "outputId": "49e95a30-cec1-4ab3-fe88-7b1969368081"
      },
      "outputs": [
        {
          "output_type": "stream",
          "name": "stdout",
          "text": [
            "percentage_used\n",
            "sender_name_brand\n",
            "sender_name_others\n",
            "is_male\n",
            "automobile\n",
            "bfsi_business_loan\n",
            "bfsi_credit_cards\n",
            "bfsi_equity\n",
            "bfsi_fixed_deposit\n",
            "bfsi_health_ins\n",
            "bfsi_motor_ins\n",
            "bfsi_mutual_funds\n",
            "bfsi_personal_loan\n",
            "bfsi_term_ins\n",
            "education\n",
            "health\n",
            "real_estate\n",
            "upto19yrs\n",
            "20to24yrs\n",
            "25to34yrs\n",
            "35to44yrs\n",
            "45to54yrs\n",
            "55+yrs\n",
            "accupto2\n",
            "acc3to5yrs\n",
            "acc6to10yrs\n",
            "acc11to15yrs\n",
            "acc15+yrs\n"
          ]
        }
      ],
      "source": [
        "for i in feature_names:\n",
        "  print(i)"
      ]
    },
    {
      "cell_type": "code",
      "execution_count": null,
      "metadata": {
        "colab": {
          "base_uri": "https://localhost:8080/"
        },
        "id": "YGw74m2E3b3J",
        "outputId": "9b9de4cd-1cc8-443b-b4a7-9726c19b1eaa"
      },
      "outputs": [
        {
          "output_type": "stream",
          "name": "stdout",
          "text": [
            "-0.06582339178496635\n"
          ]
        }
      ],
      "source": [
        "w0 = pipe.steps[1][1].intercept_[0]\n",
        "print(w0)"
      ]
    },
    {
      "cell_type": "code",
      "execution_count": null,
      "metadata": {
        "colab": {
          "base_uri": "https://localhost:8080/"
        },
        "id": "prwE00JKvsez",
        "outputId": "5a1c6a72-ed3c-467f-937b-0c71e1e6b155"
      },
      "outputs": [
        {
          "output_type": "execute_result",
          "data": {
            "text/plain": [
              "array([[-0.02250831, -0.07342464, -0.05192643,  0.14738025, -0.03901437,\n",
              "         0.00329565, -0.01707262, -0.0024033 ,  0.08887675, -0.00708696,\n",
              "        -0.01636379,  0.04156128,  0.00442744,  0.00959813,  0.01752003,\n",
              "        -0.03332575, -0.00833287, -0.64205539, -0.00584041, -0.16138314,\n",
              "        -0.16084475, -0.03063006,  0.07840821, -0.04426637, -0.23796533,\n",
              "        -0.39263493, -0.64733887, -0.70688884]])"
            ]
          },
          "metadata": {},
          "execution_count": 36
        }
      ],
      "source": [
        "pipe.named_steps['logisticregression'].coef_"
      ]
    },
    {
      "cell_type": "code",
      "execution_count": null,
      "metadata": {
        "id": "2qFpiV0O63jI"
      },
      "outputs": [],
      "source": [
        "w1, w2, w3, w4, w5, w6, w7, w8, w9, w10, w11, w12, w13, w14, w15, w16, w17, w18, w19, w20, w21, w22, w23, w24, w25, w26, w27, w28 = pipe.steps[1][1].coef_[0]"
      ]
    },
    {
      "cell_type": "code",
      "execution_count": null,
      "metadata": {
        "id": "JYXc-kZn7Zq-"
      },
      "outputs": [],
      "source": [
        "w = [w1, w2, w3, w4, w5, w6, w7, w8, w9, w10, w11, w12, w13, w14, w15, w16, w17, w18, w19, w20, w21, w22, w23, w24, w25, w26, w27, w28]"
      ]
    },
    {
      "cell_type": "code",
      "execution_count": null,
      "metadata": {
        "colab": {
          "base_uri": "https://localhost:8080/",
          "height": 927
        },
        "id": "cPWCsO1iq1CS",
        "outputId": "6b79c5d2-4c17-4e0d-9bf5-260d25643341"
      },
      "outputs": [
        {
          "output_type": "execute_result",
          "data": {
            "text/plain": [
              "               feature  importance\n",
              "3              is_male    0.147380\n",
              "8   bfsi_fixed_deposit    0.088877\n",
              "22              55+yrs    0.078408\n",
              "11   bfsi_mutual_funds    0.041561\n",
              "14           education    0.017520\n",
              "13       bfsi_term_ins    0.009598\n",
              "12  bfsi_personal_loan    0.004427\n",
              "5   bfsi_business_loan    0.003296\n",
              "7          bfsi_equity   -0.002403\n",
              "18           20to24yrs   -0.005840\n",
              "9      bfsi_health_ins   -0.007087\n",
              "16         real_estate   -0.008333\n",
              "10      bfsi_motor_ins   -0.016364\n",
              "6    bfsi_credit_cards   -0.017073\n",
              "0      percentage_used   -0.022508\n",
              "21           45to54yrs   -0.030630\n",
              "15              health   -0.033326\n",
              "4           automobile   -0.039014\n",
              "23            accupto2   -0.044266\n",
              "2   sender_name_others   -0.051926\n",
              "1    sender_name_brand   -0.073425\n",
              "20           35to44yrs   -0.160845\n",
              "19           25to34yrs   -0.161383\n",
              "24          acc3to5yrs   -0.237965\n",
              "25         acc6to10yrs   -0.392635\n",
              "17           upto19yrs   -0.642055\n",
              "26        acc11to15yrs   -0.647339\n",
              "27           acc15+yrs   -0.706889"
            ],
            "text/html": [
              "\n",
              "  <div id=\"df-4eeb7d52-9c2d-4532-94a1-bdd3f273a9fc\">\n",
              "    <div class=\"colab-df-container\">\n",
              "      <div>\n",
              "<style scoped>\n",
              "    .dataframe tbody tr th:only-of-type {\n",
              "        vertical-align: middle;\n",
              "    }\n",
              "\n",
              "    .dataframe tbody tr th {\n",
              "        vertical-align: top;\n",
              "    }\n",
              "\n",
              "    .dataframe thead th {\n",
              "        text-align: right;\n",
              "    }\n",
              "</style>\n",
              "<table border=\"1\" class=\"dataframe\">\n",
              "  <thead>\n",
              "    <tr style=\"text-align: right;\">\n",
              "      <th></th>\n",
              "      <th>feature</th>\n",
              "      <th>importance</th>\n",
              "    </tr>\n",
              "  </thead>\n",
              "  <tbody>\n",
              "    <tr>\n",
              "      <th>3</th>\n",
              "      <td>is_male</td>\n",
              "      <td>0.147380</td>\n",
              "    </tr>\n",
              "    <tr>\n",
              "      <th>8</th>\n",
              "      <td>bfsi_fixed_deposit</td>\n",
              "      <td>0.088877</td>\n",
              "    </tr>\n",
              "    <tr>\n",
              "      <th>22</th>\n",
              "      <td>55+yrs</td>\n",
              "      <td>0.078408</td>\n",
              "    </tr>\n",
              "    <tr>\n",
              "      <th>11</th>\n",
              "      <td>bfsi_mutual_funds</td>\n",
              "      <td>0.041561</td>\n",
              "    </tr>\n",
              "    <tr>\n",
              "      <th>14</th>\n",
              "      <td>education</td>\n",
              "      <td>0.017520</td>\n",
              "    </tr>\n",
              "    <tr>\n",
              "      <th>13</th>\n",
              "      <td>bfsi_term_ins</td>\n",
              "      <td>0.009598</td>\n",
              "    </tr>\n",
              "    <tr>\n",
              "      <th>12</th>\n",
              "      <td>bfsi_personal_loan</td>\n",
              "      <td>0.004427</td>\n",
              "    </tr>\n",
              "    <tr>\n",
              "      <th>5</th>\n",
              "      <td>bfsi_business_loan</td>\n",
              "      <td>0.003296</td>\n",
              "    </tr>\n",
              "    <tr>\n",
              "      <th>7</th>\n",
              "      <td>bfsi_equity</td>\n",
              "      <td>-0.002403</td>\n",
              "    </tr>\n",
              "    <tr>\n",
              "      <th>18</th>\n",
              "      <td>20to24yrs</td>\n",
              "      <td>-0.005840</td>\n",
              "    </tr>\n",
              "    <tr>\n",
              "      <th>9</th>\n",
              "      <td>bfsi_health_ins</td>\n",
              "      <td>-0.007087</td>\n",
              "    </tr>\n",
              "    <tr>\n",
              "      <th>16</th>\n",
              "      <td>real_estate</td>\n",
              "      <td>-0.008333</td>\n",
              "    </tr>\n",
              "    <tr>\n",
              "      <th>10</th>\n",
              "      <td>bfsi_motor_ins</td>\n",
              "      <td>-0.016364</td>\n",
              "    </tr>\n",
              "    <tr>\n",
              "      <th>6</th>\n",
              "      <td>bfsi_credit_cards</td>\n",
              "      <td>-0.017073</td>\n",
              "    </tr>\n",
              "    <tr>\n",
              "      <th>0</th>\n",
              "      <td>percentage_used</td>\n",
              "      <td>-0.022508</td>\n",
              "    </tr>\n",
              "    <tr>\n",
              "      <th>21</th>\n",
              "      <td>45to54yrs</td>\n",
              "      <td>-0.030630</td>\n",
              "    </tr>\n",
              "    <tr>\n",
              "      <th>15</th>\n",
              "      <td>health</td>\n",
              "      <td>-0.033326</td>\n",
              "    </tr>\n",
              "    <tr>\n",
              "      <th>4</th>\n",
              "      <td>automobile</td>\n",
              "      <td>-0.039014</td>\n",
              "    </tr>\n",
              "    <tr>\n",
              "      <th>23</th>\n",
              "      <td>accupto2</td>\n",
              "      <td>-0.044266</td>\n",
              "    </tr>\n",
              "    <tr>\n",
              "      <th>2</th>\n",
              "      <td>sender_name_others</td>\n",
              "      <td>-0.051926</td>\n",
              "    </tr>\n",
              "    <tr>\n",
              "      <th>1</th>\n",
              "      <td>sender_name_brand</td>\n",
              "      <td>-0.073425</td>\n",
              "    </tr>\n",
              "    <tr>\n",
              "      <th>20</th>\n",
              "      <td>35to44yrs</td>\n",
              "      <td>-0.160845</td>\n",
              "    </tr>\n",
              "    <tr>\n",
              "      <th>19</th>\n",
              "      <td>25to34yrs</td>\n",
              "      <td>-0.161383</td>\n",
              "    </tr>\n",
              "    <tr>\n",
              "      <th>24</th>\n",
              "      <td>acc3to5yrs</td>\n",
              "      <td>-0.237965</td>\n",
              "    </tr>\n",
              "    <tr>\n",
              "      <th>25</th>\n",
              "      <td>acc6to10yrs</td>\n",
              "      <td>-0.392635</td>\n",
              "    </tr>\n",
              "    <tr>\n",
              "      <th>17</th>\n",
              "      <td>upto19yrs</td>\n",
              "      <td>-0.642055</td>\n",
              "    </tr>\n",
              "    <tr>\n",
              "      <th>26</th>\n",
              "      <td>acc11to15yrs</td>\n",
              "      <td>-0.647339</td>\n",
              "    </tr>\n",
              "    <tr>\n",
              "      <th>27</th>\n",
              "      <td>acc15+yrs</td>\n",
              "      <td>-0.706889</td>\n",
              "    </tr>\n",
              "  </tbody>\n",
              "</table>\n",
              "</div>\n",
              "      <button class=\"colab-df-convert\" onclick=\"convertToInteractive('df-4eeb7d52-9c2d-4532-94a1-bdd3f273a9fc')\"\n",
              "              title=\"Convert this dataframe to an interactive table.\"\n",
              "              style=\"display:none;\">\n",
              "        \n",
              "  <svg xmlns=\"http://www.w3.org/2000/svg\" height=\"24px\"viewBox=\"0 0 24 24\"\n",
              "       width=\"24px\">\n",
              "    <path d=\"M0 0h24v24H0V0z\" fill=\"none\"/>\n",
              "    <path d=\"M18.56 5.44l.94 2.06.94-2.06 2.06-.94-2.06-.94-.94-2.06-.94 2.06-2.06.94zm-11 1L8.5 8.5l.94-2.06 2.06-.94-2.06-.94L8.5 2.5l-.94 2.06-2.06.94zm10 10l.94 2.06.94-2.06 2.06-.94-2.06-.94-.94-2.06-.94 2.06-2.06.94z\"/><path d=\"M17.41 7.96l-1.37-1.37c-.4-.4-.92-.59-1.43-.59-.52 0-1.04.2-1.43.59L10.3 9.45l-7.72 7.72c-.78.78-.78 2.05 0 2.83L4 21.41c.39.39.9.59 1.41.59.51 0 1.02-.2 1.41-.59l7.78-7.78 2.81-2.81c.8-.78.8-2.07 0-2.86zM5.41 20L4 18.59l7.72-7.72 1.47 1.35L5.41 20z\"/>\n",
              "  </svg>\n",
              "      </button>\n",
              "      \n",
              "  <style>\n",
              "    .colab-df-container {\n",
              "      display:flex;\n",
              "      flex-wrap:wrap;\n",
              "      gap: 12px;\n",
              "    }\n",
              "\n",
              "    .colab-df-convert {\n",
              "      background-color: #E8F0FE;\n",
              "      border: none;\n",
              "      border-radius: 50%;\n",
              "      cursor: pointer;\n",
              "      display: none;\n",
              "      fill: #1967D2;\n",
              "      height: 32px;\n",
              "      padding: 0 0 0 0;\n",
              "      width: 32px;\n",
              "    }\n",
              "\n",
              "    .colab-df-convert:hover {\n",
              "      background-color: #E2EBFA;\n",
              "      box-shadow: 0px 1px 2px rgba(60, 64, 67, 0.3), 0px 1px 3px 1px rgba(60, 64, 67, 0.15);\n",
              "      fill: #174EA6;\n",
              "    }\n",
              "\n",
              "    [theme=dark] .colab-df-convert {\n",
              "      background-color: #3B4455;\n",
              "      fill: #D2E3FC;\n",
              "    }\n",
              "\n",
              "    [theme=dark] .colab-df-convert:hover {\n",
              "      background-color: #434B5C;\n",
              "      box-shadow: 0px 1px 3px 1px rgba(0, 0, 0, 0.15);\n",
              "      filter: drop-shadow(0px 1px 2px rgba(0, 0, 0, 0.3));\n",
              "      fill: #FFFFFF;\n",
              "    }\n",
              "  </style>\n",
              "\n",
              "      <script>\n",
              "        const buttonEl =\n",
              "          document.querySelector('#df-4eeb7d52-9c2d-4532-94a1-bdd3f273a9fc button.colab-df-convert');\n",
              "        buttonEl.style.display =\n",
              "          google.colab.kernel.accessAllowed ? 'block' : 'none';\n",
              "\n",
              "        async function convertToInteractive(key) {\n",
              "          const element = document.querySelector('#df-4eeb7d52-9c2d-4532-94a1-bdd3f273a9fc');\n",
              "          const dataTable =\n",
              "            await google.colab.kernel.invokeFunction('convertToInteractive',\n",
              "                                                     [key], {});\n",
              "          if (!dataTable) return;\n",
              "\n",
              "          const docLinkHtml = 'Like what you see? Visit the ' +\n",
              "            '<a target=\"_blank\" href=https://colab.research.google.com/notebooks/data_table.ipynb>data table notebook</a>'\n",
              "            + ' to learn more about interactive tables.';\n",
              "          element.innerHTML = '';\n",
              "          dataTable['output_type'] = 'display_data';\n",
              "          await google.colab.output.renderOutput(dataTable, element);\n",
              "          const docLink = document.createElement('div');\n",
              "          docLink.innerHTML = docLinkHtml;\n",
              "          element.appendChild(docLink);\n",
              "        }\n",
              "      </script>\n",
              "    </div>\n",
              "  </div>\n",
              "  "
            ]
          },
          "metadata": {},
          "execution_count": 39
        }
      ],
      "source": [
        "feature_importance=pd.DataFrame(feature_names, columns = ['feature'])\n",
        "feature_importance['importance'] = w\n",
        "feature_importance.sort_values(by = ['importance'],ascending = False)\n"
      ]
    },
    {
      "cell_type": "markdown",
      "metadata": {
        "id": "YMpNeahhoGv4"
      },
      "source": [
        "# With the tokens"
      ]
    },
    {
      "cell_type": "markdown",
      "metadata": {
        "id": "rpqob73rBK_W"
      },
      "source": [
        "Including all words.\n"
      ]
    },
    {
      "cell_type": "code",
      "execution_count": null,
      "metadata": {
        "id": "JL8JD9iocSA2"
      },
      "outputs": [],
      "source": [
        "X1 = df.iloc[:, np.r_[6,7,10,16:30,38:988]]"
      ]
    },
    {
      "cell_type": "code",
      "execution_count": null,
      "metadata": {
        "id": "Eb-MeTj1NYWo"
      },
      "outputs": [],
      "source": [
        "X_train, X_test, y_train, y_test = train_test_split( X1, Y, test_size = 0.3, random_state = 100)"
      ]
    },
    {
      "cell_type": "code",
      "execution_count": null,
      "metadata": {
        "colab": {
          "base_uri": "https://localhost:8080/"
        },
        "id": "8M6QbGrThvsB",
        "outputId": "6f5d3efc-5444-458c-b942-3fb19a73ef79"
      },
      "outputs": [
        {
          "output_type": "execute_result",
          "data": {
            "text/plain": [
              "(6698561, 967)"
            ]
          },
          "metadata": {},
          "execution_count": 49
        }
      ],
      "source": [
        "X_train.shape"
      ]
    },
    {
      "cell_type": "code",
      "execution_count": null,
      "metadata": {
        "colab": {
          "base_uri": "https://localhost:8080/"
        },
        "id": "kXDPJ4hhh17K",
        "outputId": "b4b5a99e-ae54-44e1-8ba8-509bfc01af01"
      },
      "outputs": [
        {
          "output_type": "execute_result",
          "data": {
            "text/plain": [
              "(6698561,)"
            ]
          },
          "metadata": {},
          "execution_count": 50
        }
      ],
      "source": [
        "y_train.shape"
      ]
    },
    {
      "cell_type": "code",
      "execution_count": null,
      "metadata": {
        "colab": {
          "base_uri": "https://localhost:8080/"
        },
        "id": "5oG7mXokNfvU",
        "outputId": "b663c824-b9f4-435d-9c67-5d030a1c42ba"
      },
      "outputs": [
        {
          "output_type": "stream",
          "name": "stderr",
          "text": [
            "/usr/local/lib/python3.7/dist-packages/sklearn/utils/validation.py:625: UserWarning: pandas.DataFrame with sparse columns found.It will be converted to a dense numpy array.\n",
            "  \"pandas.DataFrame with sparse columns found.\"\n"
          ]
        }
      ],
      "source": [
        "X, y = make_classification(random_state = 100)\n",
        "pipe = make_pipeline(StandardScaler(), LogisticRegression(solver='saga',max_iter=500))\n",
        "pipe.fit(X_train, y_train)  # apply scaling on training data\n",
        "Pipeline(steps=[('standardscaler', StandardScaler()),\n",
        "                ('logisticregression', LogisticRegression())])\n",
        "\n",
        "pipe.score(X_test, y_test)  # apply scaling on testing data, without leaking training data."
      ]
    },
    {
      "cell_type": "code",
      "execution_count": null,
      "metadata": {
        "id": "zJULuuYgNrSV"
      },
      "outputs": [],
      "source": [
        "y_pred = pipe.predict(X_test)"
      ]
    },
    {
      "cell_type": "code",
      "execution_count": null,
      "metadata": {
        "id": "-YPakVf0Nv4H"
      },
      "outputs": [],
      "source": [
        "from sklearn.metrics import confusion_matrix\n",
        "cm_wot = confusion_matrix(y_test, y_pred)\n",
        "\n",
        "print (\"Confusion Matrix : \\n\", cm_wot)"
      ]
    },
    {
      "cell_type": "code",
      "execution_count": null,
      "metadata": {
        "id": "VrySVNIsJZFA"
      },
      "outputs": [],
      "source": [
        "import seaborn as sns\n",
        "sns.heatmap(cm_wot, annot=True, cmap='Blues',fmt='g')"
      ]
    },
    {
      "cell_type": "code",
      "execution_count": null,
      "metadata": {
        "id": "_JhBnP8BN0qO"
      },
      "outputs": [],
      "source": [
        "from sklearn.metrics import accuracy_score\n",
        "print (\"Accuracy : \", accuracy_score(y_test, y_pred))"
      ]
    },
    {
      "cell_type": "code",
      "execution_count": null,
      "metadata": {
        "id": "W4uodSB-Pf05"
      },
      "outputs": [],
      "source": [
        "from sklearn.metrics import classification_report\n",
        "print(classification_report(y_test, y_pred))"
      ]
    },
    {
      "cell_type": "code",
      "source": [],
      "metadata": {
        "id": "1xNTyIsXHbSo"
      },
      "execution_count": null,
      "outputs": []
    }
  ],
  "metadata": {
    "colab": {
      "machine_shape": "hm",
      "provenance": [],
      "authorship_tag": "ABX9TyMaEGjeGjCVr8hz8maIIKOR",
      "include_colab_link": true
    },
    "kernelspec": {
      "display_name": "Python 3",
      "name": "python3"
    },
    "language_info": {
      "name": "python"
    }
  },
  "nbformat": 4,
  "nbformat_minor": 0
}